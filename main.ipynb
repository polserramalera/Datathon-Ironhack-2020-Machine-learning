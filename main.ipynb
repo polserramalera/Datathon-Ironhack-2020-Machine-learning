{
 "cells": [
  {
   "cell_type": "markdown",
   "metadata": {},
   "source": [
    "# IRONHACK DATATHON"
   ]
  },
  {
   "cell_type": "code",
   "execution_count": 1,
   "metadata": {},
   "outputs": [],
   "source": [
    "import math\n",
    "import pandas as pd\n",
    "import numpy as np\n",
    "import matplotlib.pyplot as plt\n",
    "import seaborn as sns\n",
    "import time\n",
    "from scipy.stats import randint\n",
    "from scipy import stats"
   ]
  },
  {
   "cell_type": "markdown",
   "metadata": {},
   "source": [
    "## Data Exploration and Data Cleaning"
   ]
  },
  {
   "cell_type": "code",
   "execution_count": 2,
   "metadata": {},
   "outputs": [],
   "source": [
    "cookies_original = pd.read_csv('data/cookies.csv')"
   ]
  },
  {
   "cell_type": "code",
   "execution_count": 3,
   "metadata": {},
   "outputs": [
    {
     "data": {
      "text/html": [
       "<div>\n",
       "<style scoped>\n",
       "    .dataframe tbody tr th:only-of-type {\n",
       "        vertical-align: middle;\n",
       "    }\n",
       "\n",
       "    .dataframe tbody tr th {\n",
       "        vertical-align: top;\n",
       "    }\n",
       "\n",
       "    .dataframe thead th {\n",
       "        text-align: right;\n",
       "    }\n",
       "</style>\n",
       "<table border=\"1\" class=\"dataframe\">\n",
       "  <thead>\n",
       "    <tr style=\"text-align: right;\">\n",
       "      <th></th>\n",
       "      <th>sugar to flour ratio</th>\n",
       "      <th>sugar index</th>\n",
       "      <th>bake temp</th>\n",
       "      <th>chill time</th>\n",
       "      <th>calories</th>\n",
       "      <th>density</th>\n",
       "      <th>pH</th>\n",
       "      <th>grams baking soda</th>\n",
       "      <th>bake time</th>\n",
       "      <th>quality</th>\n",
       "      <th>butter type</th>\n",
       "      <th>weight</th>\n",
       "      <th>diameter</th>\n",
       "      <th>mixins</th>\n",
       "      <th>crunch factor</th>\n",
       "      <th>aesthetic appeal</th>\n",
       "    </tr>\n",
       "  </thead>\n",
       "  <tbody>\n",
       "    <tr>\n",
       "      <th>0</th>\n",
       "      <td>0.25</td>\n",
       "      <td>9.5</td>\n",
       "      <td>300</td>\n",
       "      <td>15.0</td>\n",
       "      <td>136.0</td>\n",
       "      <td>0.99367</td>\n",
       "      <td>8.10</td>\n",
       "      <td>0.44</td>\n",
       "      <td>12.1</td>\n",
       "      <td>8</td>\n",
       "      <td>melted</td>\n",
       "      <td>15.2</td>\n",
       "      <td>7</td>\n",
       "      <td>raisins</td>\n",
       "      <td>1.30</td>\n",
       "      <td>3</td>\n",
       "    </tr>\n",
       "    <tr>\n",
       "      <th>1</th>\n",
       "      <td>0.23</td>\n",
       "      <td>3.3</td>\n",
       "      <td>520</td>\n",
       "      <td>34.0</td>\n",
       "      <td>113.0</td>\n",
       "      <td>0.99429</td>\n",
       "      <td>8.16</td>\n",
       "      <td>0.48</td>\n",
       "      <td>8.4</td>\n",
       "      <td>7</td>\n",
       "      <td>melted</td>\n",
       "      <td>12.4</td>\n",
       "      <td>7</td>\n",
       "      <td>raisins</td>\n",
       "      <td>1.71</td>\n",
       "      <td>3</td>\n",
       "    </tr>\n",
       "    <tr>\n",
       "      <th>2</th>\n",
       "      <td>0.18</td>\n",
       "      <td>1.9</td>\n",
       "      <td>360</td>\n",
       "      <td>33.0</td>\n",
       "      <td>106.0</td>\n",
       "      <td>0.98746</td>\n",
       "      <td>8.21</td>\n",
       "      <td>0.83</td>\n",
       "      <td>14.0</td>\n",
       "      <td>9</td>\n",
       "      <td>melted</td>\n",
       "      <td>9.4</td>\n",
       "      <td>7</td>\n",
       "      <td>nuts, chocolate</td>\n",
       "      <td>1.78</td>\n",
       "      <td>3</td>\n",
       "    </tr>\n",
       "    <tr>\n",
       "      <th>3</th>\n",
       "      <td>0.18</td>\n",
       "      <td>10.5</td>\n",
       "      <td>490</td>\n",
       "      <td>41.0</td>\n",
       "      <td>124.0</td>\n",
       "      <td>0.99630</td>\n",
       "      <td>8.14</td>\n",
       "      <td>0.35</td>\n",
       "      <td>10.5</td>\n",
       "      <td>7</td>\n",
       "      <td>melted</td>\n",
       "      <td>12.2</td>\n",
       "      <td>7</td>\n",
       "      <td>chocolate</td>\n",
       "      <td>1.59</td>\n",
       "      <td>3</td>\n",
       "    </tr>\n",
       "    <tr>\n",
       "      <th>4</th>\n",
       "      <td>0.24</td>\n",
       "      <td>2.4</td>\n",
       "      <td>770</td>\n",
       "      <td>6.0</td>\n",
       "      <td>33.0</td>\n",
       "      <td>0.99740</td>\n",
       "      <td>8.09</td>\n",
       "      <td>0.57</td>\n",
       "      <td>9.4</td>\n",
       "      <td>5</td>\n",
       "      <td>cubed</td>\n",
       "      <td>19.8</td>\n",
       "      <td>7</td>\n",
       "      <td>nuts, oats, chocolate</td>\n",
       "      <td>1.30</td>\n",
       "      <td>3</td>\n",
       "    </tr>\n",
       "    <tr>\n",
       "      <th>...</th>\n",
       "      <td>...</td>\n",
       "      <td>...</td>\n",
       "      <td>...</td>\n",
       "      <td>...</td>\n",
       "      <td>...</td>\n",
       "      <td>...</td>\n",
       "      <td>...</td>\n",
       "      <td>...</td>\n",
       "      <td>...</td>\n",
       "      <td>...</td>\n",
       "      <td>...</td>\n",
       "      <td>...</td>\n",
       "      <td>...</td>\n",
       "      <td>...</td>\n",
       "      <td>...</td>\n",
       "      <td>...</td>\n",
       "    </tr>\n",
       "    <tr>\n",
       "      <th>5193</th>\n",
       "      <td>0.66</td>\n",
       "      <td>2.0</td>\n",
       "      <td>390</td>\n",
       "      <td>15.0</td>\n",
       "      <td>88.0</td>\n",
       "      <td>0.99357</td>\n",
       "      <td>8.66</td>\n",
       "      <td>0.60</td>\n",
       "      <td>11.5</td>\n",
       "      <td>6</td>\n",
       "      <td>cubed</td>\n",
       "      <td>11.6</td>\n",
       "      <td>7</td>\n",
       "      <td>peanut butter</td>\n",
       "      <td>1.36</td>\n",
       "      <td>3</td>\n",
       "    </tr>\n",
       "    <tr>\n",
       "      <th>5194</th>\n",
       "      <td>0.16</td>\n",
       "      <td>1.5</td>\n",
       "      <td>490</td>\n",
       "      <td>10.0</td>\n",
       "      <td>97.0</td>\n",
       "      <td>0.99170</td>\n",
       "      <td>8.48</td>\n",
       "      <td>0.44</td>\n",
       "      <td>10.7</td>\n",
       "      <td>8</td>\n",
       "      <td>melted</td>\n",
       "      <td>10.0</td>\n",
       "      <td>7</td>\n",
       "      <td>raisins</td>\n",
       "      <td>1.80</td>\n",
       "      <td>3</td>\n",
       "    </tr>\n",
       "    <tr>\n",
       "      <th>5195</th>\n",
       "      <td>0.25</td>\n",
       "      <td>14.3</td>\n",
       "      <td>480</td>\n",
       "      <td>79.0</td>\n",
       "      <td>149.0</td>\n",
       "      <td>0.99750</td>\n",
       "      <td>8.12</td>\n",
       "      <td>0.37</td>\n",
       "      <td>9.7</td>\n",
       "      <td>7</td>\n",
       "      <td>melted</td>\n",
       "      <td>13.4</td>\n",
       "      <td>7</td>\n",
       "      <td>chocolate, oats</td>\n",
       "      <td>1.07</td>\n",
       "      <td>3</td>\n",
       "    </tr>\n",
       "    <tr>\n",
       "      <th>5196</th>\n",
       "      <td>0.33</td>\n",
       "      <td>1.4</td>\n",
       "      <td>560</td>\n",
       "      <td>35.0</td>\n",
       "      <td>136.0</td>\n",
       "      <td>0.99380</td>\n",
       "      <td>8.63</td>\n",
       "      <td>0.78</td>\n",
       "      <td>10.3</td>\n",
       "      <td>8</td>\n",
       "      <td>melted</td>\n",
       "      <td>13.8</td>\n",
       "      <td>7</td>\n",
       "      <td>chocolate</td>\n",
       "      <td>1.77</td>\n",
       "      <td>3</td>\n",
       "    </tr>\n",
       "    <tr>\n",
       "      <th>5197</th>\n",
       "      <td>0.44</td>\n",
       "      <td>1.8</td>\n",
       "      <td>810</td>\n",
       "      <td>28.0</td>\n",
       "      <td>68.0</td>\n",
       "      <td>0.99501</td>\n",
       "      <td>8.36</td>\n",
       "      <td>0.66</td>\n",
       "      <td>11.2</td>\n",
       "      <td>5</td>\n",
       "      <td>cubed</td>\n",
       "      <td>16.0</td>\n",
       "      <td>7</td>\n",
       "      <td>chocolate</td>\n",
       "      <td>1.61</td>\n",
       "      <td>3</td>\n",
       "    </tr>\n",
       "  </tbody>\n",
       "</table>\n",
       "<p>5198 rows × 16 columns</p>\n",
       "</div>"
      ],
      "text/plain": [
       "      sugar to flour ratio  sugar index  bake temp  chill time  calories  \\\n",
       "0                     0.25          9.5        300        15.0     136.0   \n",
       "1                     0.23          3.3        520        34.0     113.0   \n",
       "2                     0.18          1.9        360        33.0     106.0   \n",
       "3                     0.18         10.5        490        41.0     124.0   \n",
       "4                     0.24          2.4        770         6.0      33.0   \n",
       "...                    ...          ...        ...         ...       ...   \n",
       "5193                  0.66          2.0        390        15.0      88.0   \n",
       "5194                  0.16          1.5        490        10.0      97.0   \n",
       "5195                  0.25         14.3        480        79.0     149.0   \n",
       "5196                  0.33          1.4        560        35.0     136.0   \n",
       "5197                  0.44          1.8        810        28.0      68.0   \n",
       "\n",
       "      density    pH  grams baking soda  bake time  quality butter type  \\\n",
       "0     0.99367  8.10               0.44       12.1        8      melted   \n",
       "1     0.99429  8.16               0.48        8.4        7      melted   \n",
       "2     0.98746  8.21               0.83       14.0        9      melted   \n",
       "3     0.99630  8.14               0.35       10.5        7      melted   \n",
       "4     0.99740  8.09               0.57        9.4        5       cubed   \n",
       "...       ...   ...                ...        ...      ...         ...   \n",
       "5193  0.99357  8.66               0.60       11.5        6       cubed   \n",
       "5194  0.99170  8.48               0.44       10.7        8      melted   \n",
       "5195  0.99750  8.12               0.37        9.7        7      melted   \n",
       "5196  0.99380  8.63               0.78       10.3        8      melted   \n",
       "5197  0.99501  8.36               0.66       11.2        5       cubed   \n",
       "\n",
       "      weight  diameter                 mixins  crunch factor  aesthetic appeal  \n",
       "0       15.2         7                raisins           1.30                 3  \n",
       "1       12.4         7                raisins           1.71                 3  \n",
       "2        9.4         7        nuts, chocolate           1.78                 3  \n",
       "3       12.2         7              chocolate           1.59                 3  \n",
       "4       19.8         7  nuts, oats, chocolate           1.30                 3  \n",
       "...      ...       ...                    ...            ...               ...  \n",
       "5193    11.6         7          peanut butter           1.36                 3  \n",
       "5194    10.0         7                raisins           1.80                 3  \n",
       "5195    13.4         7        chocolate, oats           1.07                 3  \n",
       "5196    13.8         7              chocolate           1.77                 3  \n",
       "5197    16.0         7              chocolate           1.61                 3  \n",
       "\n",
       "[5198 rows x 16 columns]"
      ]
     },
     "execution_count": 3,
     "metadata": {},
     "output_type": "execute_result"
    }
   ],
   "source": [
    "cookies_original"
   ]
  },
  {
   "cell_type": "markdown",
   "metadata": {},
   "source": [
    "### Managing missing values"
   ]
  },
  {
   "cell_type": "code",
   "execution_count": 4,
   "metadata": {},
   "outputs": [],
   "source": [
    "# First we explore the missing values\n",
    "cookies = cookies_original.copy()"
   ]
  },
  {
   "cell_type": "code",
   "execution_count": 5,
   "metadata": {},
   "outputs": [
    {
     "data": {
      "text/plain": [
       "sugar to flour ratio     0\n",
       "sugar index              5\n",
       "bake temp                0\n",
       "chill time               0\n",
       "calories                 0\n",
       "density                  0\n",
       "pH                       0\n",
       "grams baking soda        0\n",
       "bake time               10\n",
       "quality                  0\n",
       "butter type              0\n",
       "weight                   0\n",
       "diameter                 0\n",
       "mixins                   2\n",
       "crunch factor            0\n",
       "aesthetic appeal         0\n",
       "dtype: int64"
      ]
     },
     "execution_count": 5,
     "metadata": {},
     "output_type": "execute_result"
    }
   ],
   "source": [
    "cookies.isnull().sum()"
   ]
  },
  {
   "cell_type": "markdown",
   "metadata": {},
   "source": [
    "We can see there are three columns with missing values: *sugar index*, *bake time* and *mixins*."
   ]
  },
  {
   "cell_type": "code",
   "execution_count": 6,
   "metadata": {
    "scrolled": true
   },
   "outputs": [
    {
     "data": {
      "text/html": [
       "<div>\n",
       "<style scoped>\n",
       "    .dataframe tbody tr th:only-of-type {\n",
       "        vertical-align: middle;\n",
       "    }\n",
       "\n",
       "    .dataframe tbody tr th {\n",
       "        vertical-align: top;\n",
       "    }\n",
       "\n",
       "    .dataframe thead th {\n",
       "        text-align: right;\n",
       "    }\n",
       "</style>\n",
       "<table border=\"1\" class=\"dataframe\">\n",
       "  <thead>\n",
       "    <tr style=\"text-align: right;\">\n",
       "      <th></th>\n",
       "      <th>sugar index</th>\n",
       "      <th>bake time</th>\n",
       "    </tr>\n",
       "  </thead>\n",
       "  <tbody>\n",
       "    <tr>\n",
       "      <th>count</th>\n",
       "      <td>5193.000000</td>\n",
       "      <td>5188.000000</td>\n",
       "    </tr>\n",
       "    <tr>\n",
       "      <th>mean</th>\n",
       "      <td>5.402465</td>\n",
       "      <td>10.494758</td>\n",
       "    </tr>\n",
       "    <tr>\n",
       "      <th>std</th>\n",
       "      <td>4.668342</td>\n",
       "      <td>1.194584</td>\n",
       "    </tr>\n",
       "    <tr>\n",
       "      <th>min</th>\n",
       "      <td>0.600000</td>\n",
       "      <td>8.000000</td>\n",
       "    </tr>\n",
       "    <tr>\n",
       "      <th>25%</th>\n",
       "      <td>1.800000</td>\n",
       "      <td>9.500000</td>\n",
       "    </tr>\n",
       "    <tr>\n",
       "      <th>50%</th>\n",
       "      <td>3.000000</td>\n",
       "      <td>10.300000</td>\n",
       "    </tr>\n",
       "    <tr>\n",
       "      <th>75%</th>\n",
       "      <td>8.000000</td>\n",
       "      <td>11.300000</td>\n",
       "    </tr>\n",
       "    <tr>\n",
       "      <th>max</th>\n",
       "      <td>31.600000</td>\n",
       "      <td>14.900000</td>\n",
       "    </tr>\n",
       "  </tbody>\n",
       "</table>\n",
       "</div>"
      ],
      "text/plain": [
       "       sugar index    bake time\n",
       "count  5193.000000  5188.000000\n",
       "mean      5.402465    10.494758\n",
       "std       4.668342     1.194584\n",
       "min       0.600000     8.000000\n",
       "25%       1.800000     9.500000\n",
       "50%       3.000000    10.300000\n",
       "75%       8.000000    11.300000\n",
       "max      31.600000    14.900000"
      ]
     },
     "execution_count": 6,
     "metadata": {},
     "output_type": "execute_result"
    }
   ],
   "source": [
    "# Describing numeric columns with missing values to determine the best approach.\n",
    "cookies.describe()[['sugar index', 'bake time']]"
   ]
  },
  {
   "cell_type": "markdown",
   "metadata": {},
   "source": [
    "We see *sugar index* has high variance while *bake time* has low variance. So, we decide to fill the missing values with the **median** for the *sugar index* column and the **mean** for the *bake time* column."
   ]
  },
  {
   "cell_type": "code",
   "execution_count": 7,
   "metadata": {},
   "outputs": [],
   "source": [
    "cookies['sugar index'].fillna(cookies['sugar index'].median(), inplace = True)\n",
    "cookies['bake time'].fillna(cookies['bake time'].mean(), inplace = True)"
   ]
  },
  {
   "cell_type": "markdown",
   "metadata": {},
   "source": [
    "As *mixins* is a categorical column we decide to drop the two rows with missing values."
   ]
  },
  {
   "cell_type": "code",
   "execution_count": 8,
   "metadata": {},
   "outputs": [],
   "source": [
    "cookies_removed_missing = cookies.dropna().copy()"
   ]
  },
  {
   "cell_type": "code",
   "execution_count": 9,
   "metadata": {},
   "outputs": [
    {
     "data": {
      "text/plain": [
       "sugar to flour ratio    0\n",
       "sugar index             0\n",
       "bake temp               0\n",
       "chill time              0\n",
       "calories                0\n",
       "density                 0\n",
       "pH                      0\n",
       "grams baking soda       0\n",
       "bake time               0\n",
       "quality                 0\n",
       "butter type             0\n",
       "weight                  0\n",
       "diameter                0\n",
       "mixins                  0\n",
       "crunch factor           0\n",
       "aesthetic appeal        0\n",
       "dtype: int64"
      ]
     },
     "execution_count": 9,
     "metadata": {},
     "output_type": "execute_result"
    }
   ],
   "source": [
    "# Check missing values management is correctly done.\n",
    "cookies_removed_missing.isnull().sum()"
   ]
  },
  {
   "cell_type": "markdown",
   "metadata": {},
   "source": [
    "### Column Features"
   ]
  },
  {
   "cell_type": "markdown",
   "metadata": {},
   "source": [
    "#### Processing numerical columns"
   ]
  },
  {
   "cell_type": "code",
   "execution_count": 10,
   "metadata": {},
   "outputs": [
    {
     "data": {
      "text/html": [
       "<div>\n",
       "<style scoped>\n",
       "    .dataframe tbody tr th:only-of-type {\n",
       "        vertical-align: middle;\n",
       "    }\n",
       "\n",
       "    .dataframe tbody tr th {\n",
       "        vertical-align: top;\n",
       "    }\n",
       "\n",
       "    .dataframe thead th {\n",
       "        text-align: right;\n",
       "    }\n",
       "</style>\n",
       "<table border=\"1\" class=\"dataframe\">\n",
       "  <thead>\n",
       "    <tr style=\"text-align: right;\">\n",
       "      <th></th>\n",
       "      <th>sugar to flour ratio</th>\n",
       "      <th>sugar index</th>\n",
       "      <th>bake temp</th>\n",
       "      <th>chill time</th>\n",
       "      <th>calories</th>\n",
       "      <th>density</th>\n",
       "      <th>pH</th>\n",
       "      <th>grams baking soda</th>\n",
       "      <th>bake time</th>\n",
       "      <th>quality</th>\n",
       "      <th>weight</th>\n",
       "      <th>diameter</th>\n",
       "      <th>crunch factor</th>\n",
       "      <th>aesthetic appeal</th>\n",
       "    </tr>\n",
       "  </thead>\n",
       "  <tbody>\n",
       "    <tr>\n",
       "      <th>count</th>\n",
       "      <td>5196.000000</td>\n",
       "      <td>5196.000000</td>\n",
       "      <td>5196.000000</td>\n",
       "      <td>5196.000000</td>\n",
       "      <td>5196.000000</td>\n",
       "      <td>5196.000000</td>\n",
       "      <td>5196.000000</td>\n",
       "      <td>5196.000000</td>\n",
       "      <td>5196.000000</td>\n",
       "      <td>5196.000000</td>\n",
       "      <td>5196.000000</td>\n",
       "      <td>5196.0</td>\n",
       "      <td>5196.000000</td>\n",
       "      <td>5196.000000</td>\n",
       "    </tr>\n",
       "    <tr>\n",
       "      <th>mean</th>\n",
       "      <td>0.318172</td>\n",
       "      <td>5.401559</td>\n",
       "      <td>559.540031</td>\n",
       "      <td>30.400789</td>\n",
       "      <td>115.054946</td>\n",
       "      <td>0.995819</td>\n",
       "      <td>8.221900</td>\n",
       "      <td>0.530881</td>\n",
       "      <td>10.494602</td>\n",
       "      <td>7.326020</td>\n",
       "      <td>14.381197</td>\n",
       "      <td>7.0</td>\n",
       "      <td>1.499203</td>\n",
       "      <td>3.000577</td>\n",
       "    </tr>\n",
       "    <tr>\n",
       "      <th>std</th>\n",
       "      <td>0.149935</td>\n",
       "      <td>4.667039</td>\n",
       "      <td>353.306505</td>\n",
       "      <td>17.263360</td>\n",
       "      <td>56.480877</td>\n",
       "      <td>0.062205</td>\n",
       "      <td>0.283311</td>\n",
       "      <td>0.150912</td>\n",
       "      <td>1.193638</td>\n",
       "      <td>1.302232</td>\n",
       "      <td>3.024087</td>\n",
       "      <td>0.0</td>\n",
       "      <td>0.289139</td>\n",
       "      <td>0.024024</td>\n",
       "    </tr>\n",
       "    <tr>\n",
       "      <th>min</th>\n",
       "      <td>0.000000</td>\n",
       "      <td>0.600000</td>\n",
       "      <td>90.000000</td>\n",
       "      <td>0.000000</td>\n",
       "      <td>-99.000000</td>\n",
       "      <td>0.987110</td>\n",
       "      <td>7.720000</td>\n",
       "      <td>0.220000</td>\n",
       "      <td>8.000000</td>\n",
       "      <td>3.000000</td>\n",
       "      <td>-99.000000</td>\n",
       "      <td>7.0</td>\n",
       "      <td>1.000000</td>\n",
       "      <td>3.000000</td>\n",
       "    </tr>\n",
       "    <tr>\n",
       "      <th>25%</th>\n",
       "      <td>0.240000</td>\n",
       "      <td>1.800000</td>\n",
       "      <td>380.000000</td>\n",
       "      <td>17.000000</td>\n",
       "      <td>76.000000</td>\n",
       "      <td>0.992300</td>\n",
       "      <td>8.110000</td>\n",
       "      <td>0.430000</td>\n",
       "      <td>9.500000</td>\n",
       "      <td>7.000000</td>\n",
       "      <td>12.800000</td>\n",
       "      <td>7.0</td>\n",
       "      <td>1.250000</td>\n",
       "      <td>3.000000</td>\n",
       "    </tr>\n",
       "    <tr>\n",
       "      <th>50%</th>\n",
       "      <td>0.310000</td>\n",
       "      <td>3.000000</td>\n",
       "      <td>470.000000</td>\n",
       "      <td>29.000000</td>\n",
       "      <td>118.000000</td>\n",
       "      <td>0.994800</td>\n",
       "      <td>8.210000</td>\n",
       "      <td>0.510000</td>\n",
       "      <td>10.300000</td>\n",
       "      <td>8.000000</td>\n",
       "      <td>14.000000</td>\n",
       "      <td>7.0</td>\n",
       "      <td>1.500000</td>\n",
       "      <td>3.000000</td>\n",
       "    </tr>\n",
       "    <tr>\n",
       "      <th>75%</th>\n",
       "      <td>0.390000</td>\n",
       "      <td>8.000000</td>\n",
       "      <td>640.000000</td>\n",
       "      <td>41.000000</td>\n",
       "      <td>155.000000</td>\n",
       "      <td>0.996910</td>\n",
       "      <td>8.320000</td>\n",
       "      <td>0.600000</td>\n",
       "      <td>11.300000</td>\n",
       "      <td>8.000000</td>\n",
       "      <td>15.400000</td>\n",
       "      <td>7.0</td>\n",
       "      <td>1.750000</td>\n",
       "      <td>3.000000</td>\n",
       "    </tr>\n",
       "    <tr>\n",
       "      <th>max</th>\n",
       "      <td>3.000000</td>\n",
       "      <td>31.600000</td>\n",
       "      <td>6110.000000</td>\n",
       "      <td>146.500000</td>\n",
       "      <td>366.500000</td>\n",
       "      <td>5.000000</td>\n",
       "      <td>25.000000</td>\n",
       "      <td>2.000000</td>\n",
       "      <td>14.900000</td>\n",
       "      <td>11.000000</td>\n",
       "      <td>31.800000</td>\n",
       "      <td>7.0</td>\n",
       "      <td>2.000000</td>\n",
       "      <td>4.000000</td>\n",
       "    </tr>\n",
       "  </tbody>\n",
       "</table>\n",
       "</div>"
      ],
      "text/plain": [
       "       sugar to flour ratio  sugar index    bake temp   chill time  \\\n",
       "count           5196.000000  5196.000000  5196.000000  5196.000000   \n",
       "mean               0.318172     5.401559   559.540031    30.400789   \n",
       "std                0.149935     4.667039   353.306505    17.263360   \n",
       "min                0.000000     0.600000    90.000000     0.000000   \n",
       "25%                0.240000     1.800000   380.000000    17.000000   \n",
       "50%                0.310000     3.000000   470.000000    29.000000   \n",
       "75%                0.390000     8.000000   640.000000    41.000000   \n",
       "max                3.000000    31.600000  6110.000000   146.500000   \n",
       "\n",
       "          calories      density           pH  grams baking soda    bake time  \\\n",
       "count  5196.000000  5196.000000  5196.000000        5196.000000  5196.000000   \n",
       "mean    115.054946     0.995819     8.221900           0.530881    10.494602   \n",
       "std      56.480877     0.062205     0.283311           0.150912     1.193638   \n",
       "min     -99.000000     0.987110     7.720000           0.220000     8.000000   \n",
       "25%      76.000000     0.992300     8.110000           0.430000     9.500000   \n",
       "50%     118.000000     0.994800     8.210000           0.510000    10.300000   \n",
       "75%     155.000000     0.996910     8.320000           0.600000    11.300000   \n",
       "max     366.500000     5.000000    25.000000           2.000000    14.900000   \n",
       "\n",
       "           quality       weight  diameter  crunch factor  aesthetic appeal  \n",
       "count  5196.000000  5196.000000    5196.0    5196.000000       5196.000000  \n",
       "mean      7.326020    14.381197       7.0       1.499203          3.000577  \n",
       "std       1.302232     3.024087       0.0       0.289139          0.024024  \n",
       "min       3.000000   -99.000000       7.0       1.000000          3.000000  \n",
       "25%       7.000000    12.800000       7.0       1.250000          3.000000  \n",
       "50%       8.000000    14.000000       7.0       1.500000          3.000000  \n",
       "75%       8.000000    15.400000       7.0       1.750000          3.000000  \n",
       "max      11.000000    31.800000       7.0       2.000000          4.000000  "
      ]
     },
     "execution_count": 10,
     "metadata": {},
     "output_type": "execute_result"
    }
   ],
   "source": [
    "# Explore columns features\n",
    "cookies_removed_missing.describe()"
   ]
  },
  {
   "cell_type": "code",
   "execution_count": 11,
   "metadata": {},
   "outputs": [],
   "source": [
    "# We drop 'diameter' column because doesn't give any information.\n",
    "cookies_removed_missing.drop(columns = 'diameter', inplace = True)"
   ]
  },
  {
   "cell_type": "code",
   "execution_count": 12,
   "metadata": {},
   "outputs": [
    {
     "data": {
      "text/plain": [
       "3    5193\n",
       "4       3\n",
       "Name: aesthetic appeal, dtype: int64"
      ]
     },
     "execution_count": 12,
     "metadata": {},
     "output_type": "execute_result"
    }
   ],
   "source": [
    "cookies_removed_missing['aesthetic appeal'].value_counts()"
   ]
  },
  {
   "cell_type": "code",
   "execution_count": 13,
   "metadata": {},
   "outputs": [],
   "source": [
    "# We drop 'aesthetic appeal' column because doesn't give any information.\n",
    "cookies_removed_missing.drop(columns = 'aesthetic appeal', inplace = True)"
   ]
  },
  {
   "cell_type": "code",
   "execution_count": 14,
   "metadata": {},
   "outputs": [
    {
     "data": {
      "text/html": [
       "<div>\n",
       "<style scoped>\n",
       "    .dataframe tbody tr th:only-of-type {\n",
       "        vertical-align: middle;\n",
       "    }\n",
       "\n",
       "    .dataframe tbody tr th {\n",
       "        vertical-align: top;\n",
       "    }\n",
       "\n",
       "    .dataframe thead th {\n",
       "        text-align: right;\n",
       "    }\n",
       "</style>\n",
       "<table border=\"1\" class=\"dataframe\">\n",
       "  <thead>\n",
       "    <tr style=\"text-align: right;\">\n",
       "      <th></th>\n",
       "      <th>sugar to flour ratio</th>\n",
       "      <th>sugar index</th>\n",
       "      <th>bake temp</th>\n",
       "      <th>chill time</th>\n",
       "      <th>calories</th>\n",
       "      <th>density</th>\n",
       "      <th>pH</th>\n",
       "      <th>grams baking soda</th>\n",
       "      <th>bake time</th>\n",
       "      <th>quality</th>\n",
       "      <th>butter type</th>\n",
       "      <th>weight</th>\n",
       "      <th>mixins</th>\n",
       "      <th>crunch factor</th>\n",
       "    </tr>\n",
       "  </thead>\n",
       "  <tbody>\n",
       "    <tr>\n",
       "      <th>22</th>\n",
       "      <td>0.28</td>\n",
       "      <td>14.7</td>\n",
       "      <td>510</td>\n",
       "      <td>29.0</td>\n",
       "      <td>-99.0</td>\n",
       "      <td>0.99792</td>\n",
       "      <td>7.96</td>\n",
       "      <td>0.39</td>\n",
       "      <td>9.0</td>\n",
       "      <td>9</td>\n",
       "      <td>melted</td>\n",
       "      <td>14.0</td>\n",
       "      <td>chocolate, oats</td>\n",
       "      <td>1.08</td>\n",
       "    </tr>\n",
       "    <tr>\n",
       "      <th>200</th>\n",
       "      <td>0.37</td>\n",
       "      <td>1.0</td>\n",
       "      <td>380</td>\n",
       "      <td>6.0</td>\n",
       "      <td>-99.0</td>\n",
       "      <td>0.99020</td>\n",
       "      <td>8.37</td>\n",
       "      <td>0.34</td>\n",
       "      <td>11.4</td>\n",
       "      <td>7</td>\n",
       "      <td>melted</td>\n",
       "      <td>11.2</td>\n",
       "      <td>raisins</td>\n",
       "      <td>1.67</td>\n",
       "    </tr>\n",
       "    <tr>\n",
       "      <th>906</th>\n",
       "      <td>0.26</td>\n",
       "      <td>2.1</td>\n",
       "      <td>830</td>\n",
       "      <td>17.0</td>\n",
       "      <td>-99.0</td>\n",
       "      <td>0.99616</td>\n",
       "      <td>8.29</td>\n",
       "      <td>0.56</td>\n",
       "      <td>9.8</td>\n",
       "      <td>6</td>\n",
       "      <td>cubed</td>\n",
       "      <td>14.8</td>\n",
       "      <td>nuts, oats, chocolate</td>\n",
       "      <td>1.65</td>\n",
       "    </tr>\n",
       "    <tr>\n",
       "      <th>3099</th>\n",
       "      <td>0.17</td>\n",
       "      <td>12.0</td>\n",
       "      <td>460</td>\n",
       "      <td>65.0</td>\n",
       "      <td>-99.0</td>\n",
       "      <td>0.99760</td>\n",
       "      <td>8.15</td>\n",
       "      <td>0.38</td>\n",
       "      <td>9.0</td>\n",
       "      <td>8</td>\n",
       "      <td>melted</td>\n",
       "      <td>12.0</td>\n",
       "      <td>raisins</td>\n",
       "      <td>1.33</td>\n",
       "    </tr>\n",
       "    <tr>\n",
       "      <th>4428</th>\n",
       "      <td>0.26</td>\n",
       "      <td>9.7</td>\n",
       "      <td>300</td>\n",
       "      <td>39.0</td>\n",
       "      <td>-99.0</td>\n",
       "      <td>0.99080</td>\n",
       "      <td>8.08</td>\n",
       "      <td>0.56</td>\n",
       "      <td>12.9</td>\n",
       "      <td>9</td>\n",
       "      <td>melted</td>\n",
       "      <td>12.4</td>\n",
       "      <td>chocolate</td>\n",
       "      <td>1.82</td>\n",
       "    </tr>\n",
       "  </tbody>\n",
       "</table>\n",
       "</div>"
      ],
      "text/plain": [
       "      sugar to flour ratio  sugar index  bake temp  chill time  calories  \\\n",
       "22                    0.28         14.7        510        29.0     -99.0   \n",
       "200                   0.37          1.0        380         6.0     -99.0   \n",
       "906                   0.26          2.1        830        17.0     -99.0   \n",
       "3099                  0.17         12.0        460        65.0     -99.0   \n",
       "4428                  0.26          9.7        300        39.0     -99.0   \n",
       "\n",
       "      density    pH  grams baking soda  bake time  quality butter type  \\\n",
       "22    0.99792  7.96               0.39        9.0        9      melted   \n",
       "200   0.99020  8.37               0.34       11.4        7      melted   \n",
       "906   0.99616  8.29               0.56        9.8        6       cubed   \n",
       "3099  0.99760  8.15               0.38        9.0        8      melted   \n",
       "4428  0.99080  8.08               0.56       12.9        9      melted   \n",
       "\n",
       "      weight                 mixins  crunch factor  \n",
       "22      14.0        chocolate, oats           1.08  \n",
       "200     11.2                raisins           1.67  \n",
       "906     14.8  nuts, oats, chocolate           1.65  \n",
       "3099    12.0                raisins           1.33  \n",
       "4428    12.4              chocolate           1.82  "
      ]
     },
     "execution_count": 14,
     "metadata": {},
     "output_type": "execute_result"
    }
   ],
   "source": [
    "# Exploring negative values of 'calories' column.\n",
    "cookies_removed_missing[cookies_removed_missing['calories'] < 0]"
   ]
  },
  {
   "cell_type": "code",
   "execution_count": 15,
   "metadata": {},
   "outputs": [],
   "source": [
    "# We drop the rows with negative values as possibly have been used as a placeholder for missing values.\n",
    "cookies_removed_missing = cookies_removed_missing.drop(cookies_removed_missing[cookies_removed_missing['calories']<-98].index)"
   ]
  },
  {
   "cell_type": "code",
   "execution_count": 16,
   "metadata": {},
   "outputs": [
    {
     "data": {
      "text/html": [
       "<div>\n",
       "<style scoped>\n",
       "    .dataframe tbody tr th:only-of-type {\n",
       "        vertical-align: middle;\n",
       "    }\n",
       "\n",
       "    .dataframe tbody tr th {\n",
       "        vertical-align: top;\n",
       "    }\n",
       "\n",
       "    .dataframe thead th {\n",
       "        text-align: right;\n",
       "    }\n",
       "</style>\n",
       "<table border=\"1\" class=\"dataframe\">\n",
       "  <thead>\n",
       "    <tr style=\"text-align: right;\">\n",
       "      <th></th>\n",
       "      <th>sugar to flour ratio</th>\n",
       "      <th>sugar index</th>\n",
       "      <th>bake temp</th>\n",
       "      <th>chill time</th>\n",
       "      <th>calories</th>\n",
       "      <th>density</th>\n",
       "      <th>pH</th>\n",
       "      <th>grams baking soda</th>\n",
       "      <th>bake time</th>\n",
       "      <th>quality</th>\n",
       "      <th>butter type</th>\n",
       "      <th>weight</th>\n",
       "      <th>mixins</th>\n",
       "      <th>crunch factor</th>\n",
       "    </tr>\n",
       "  </thead>\n",
       "  <tbody>\n",
       "    <tr>\n",
       "      <th>1783</th>\n",
       "      <td>0.27</td>\n",
       "      <td>9.6</td>\n",
       "      <td>370</td>\n",
       "      <td>19.0</td>\n",
       "      <td>105.0</td>\n",
       "      <td>0.99444</td>\n",
       "      <td>8.04</td>\n",
       "      <td>0.37</td>\n",
       "      <td>10.5</td>\n",
       "      <td>9</td>\n",
       "      <td>melted</td>\n",
       "      <td>-99.0</td>\n",
       "      <td>chocolate</td>\n",
       "      <td>1.74</td>\n",
       "    </tr>\n",
       "  </tbody>\n",
       "</table>\n",
       "</div>"
      ],
      "text/plain": [
       "      sugar to flour ratio  sugar index  bake temp  chill time  calories  \\\n",
       "1783                  0.27          9.6        370        19.0     105.0   \n",
       "\n",
       "      density    pH  grams baking soda  bake time  quality butter type  \\\n",
       "1783  0.99444  8.04               0.37       10.5        9      melted   \n",
       "\n",
       "      weight     mixins  crunch factor  \n",
       "1783   -99.0  chocolate           1.74  "
      ]
     },
     "execution_count": 16,
     "metadata": {},
     "output_type": "execute_result"
    }
   ],
   "source": [
    "# Exploring negative values of 'weight' column.\n",
    "cookies_removed_missing[cookies_removed_missing['weight'] < 0]"
   ]
  },
  {
   "cell_type": "code",
   "execution_count": 17,
   "metadata": {},
   "outputs": [],
   "source": [
    "cookies_removed_missing = cookies_removed_missing.drop(cookies_removed_missing[cookies_removed_missing['weight']<-98].index)"
   ]
  },
  {
   "cell_type": "code",
   "execution_count": 18,
   "metadata": {},
   "outputs": [],
   "source": [
    "# Finally, we change 'bake temp' column values from Fahrenheit degrees to Celsius degrees for an easier data interpretation.\n",
    "cookies_removed_missing['bake temp'] = (cookies_removed_missing['bake temp'] - 32)*5/9"
   ]
  },
  {
   "cell_type": "markdown",
   "metadata": {},
   "source": [
    "#### Processing the categorical columns - *Mixins*"
   ]
  },
  {
   "cell_type": "code",
   "execution_count": 19,
   "metadata": {},
   "outputs": [
    {
     "data": {
      "text/plain": [
       "chocolate                         1891\n",
       "raisins                           1198\n",
       "chocolate, oats                    748\n",
       "nuts, chocolate                    521\n",
       "nuts,raisins                       333\n",
       "nuts, oats, chocolate              294\n",
       "nuts, oats                         107\n",
       "chocolate, peanut butter            52\n",
       "raisins, oats                       24\n",
       "peanut butter                       15\n",
       "oats                                 4\n",
       "chocolate, oats, peanut butter       2\n",
       "peanut butter, raisins               1\n",
       "Name: mixins, dtype: int64"
      ]
     },
     "execution_count": 19,
     "metadata": {},
     "output_type": "execute_result"
    }
   ],
   "source": [
    "# Analysing the different values of the column.\n",
    "cookies_removed_missing['mixins'].value_counts()"
   ]
  },
  {
   "cell_type": "code",
   "execution_count": 20,
   "metadata": {},
   "outputs": [],
   "source": [
    "# Converting values into onehot columns.\n",
    "mix_list = ['chocolate', 'raisins', 'oats', 'nuts', 'peanut butter']\n",
    "\n",
    "for m in mix_list:\n",
    "    cookies_removed_missing[m] = 0\n",
    "    cookies_removed_missing[m] = cookies_removed_missing['mixins'].str.contains(m).astype(int)\n",
    "cookies_removed_missing.drop(columns = 'mixins', inplace = True)\n",
    "cookies_removed_missing.reset_index(inplace = True)"
   ]
  },
  {
   "cell_type": "code",
   "execution_count": 21,
   "metadata": {},
   "outputs": [
    {
     "data": {
      "text/html": [
       "<div>\n",
       "<style scoped>\n",
       "    .dataframe tbody tr th:only-of-type {\n",
       "        vertical-align: middle;\n",
       "    }\n",
       "\n",
       "    .dataframe tbody tr th {\n",
       "        vertical-align: top;\n",
       "    }\n",
       "\n",
       "    .dataframe thead th {\n",
       "        text-align: right;\n",
       "    }\n",
       "</style>\n",
       "<table border=\"1\" class=\"dataframe\">\n",
       "  <thead>\n",
       "    <tr style=\"text-align: right;\">\n",
       "      <th></th>\n",
       "      <th>index</th>\n",
       "      <th>sugar to flour ratio</th>\n",
       "      <th>sugar index</th>\n",
       "      <th>bake temp</th>\n",
       "      <th>chill time</th>\n",
       "      <th>calories</th>\n",
       "      <th>density</th>\n",
       "      <th>pH</th>\n",
       "      <th>grams baking soda</th>\n",
       "      <th>bake time</th>\n",
       "      <th>quality</th>\n",
       "      <th>butter type</th>\n",
       "      <th>weight</th>\n",
       "      <th>crunch factor</th>\n",
       "      <th>chocolate</th>\n",
       "      <th>raisins</th>\n",
       "      <th>oats</th>\n",
       "      <th>nuts</th>\n",
       "      <th>peanut butter</th>\n",
       "    </tr>\n",
       "  </thead>\n",
       "  <tbody>\n",
       "    <tr>\n",
       "      <th>0</th>\n",
       "      <td>0</td>\n",
       "      <td>0.25</td>\n",
       "      <td>9.5</td>\n",
       "      <td>148.888889</td>\n",
       "      <td>15.0</td>\n",
       "      <td>136.0</td>\n",
       "      <td>0.99367</td>\n",
       "      <td>8.10</td>\n",
       "      <td>0.44</td>\n",
       "      <td>12.1</td>\n",
       "      <td>8</td>\n",
       "      <td>melted</td>\n",
       "      <td>15.2</td>\n",
       "      <td>1.30</td>\n",
       "      <td>0</td>\n",
       "      <td>1</td>\n",
       "      <td>0</td>\n",
       "      <td>0</td>\n",
       "      <td>0</td>\n",
       "    </tr>\n",
       "    <tr>\n",
       "      <th>1</th>\n",
       "      <td>1</td>\n",
       "      <td>0.23</td>\n",
       "      <td>3.3</td>\n",
       "      <td>271.111111</td>\n",
       "      <td>34.0</td>\n",
       "      <td>113.0</td>\n",
       "      <td>0.99429</td>\n",
       "      <td>8.16</td>\n",
       "      <td>0.48</td>\n",
       "      <td>8.4</td>\n",
       "      <td>7</td>\n",
       "      <td>melted</td>\n",
       "      <td>12.4</td>\n",
       "      <td>1.71</td>\n",
       "      <td>0</td>\n",
       "      <td>1</td>\n",
       "      <td>0</td>\n",
       "      <td>0</td>\n",
       "      <td>0</td>\n",
       "    </tr>\n",
       "    <tr>\n",
       "      <th>2</th>\n",
       "      <td>2</td>\n",
       "      <td>0.18</td>\n",
       "      <td>1.9</td>\n",
       "      <td>182.222222</td>\n",
       "      <td>33.0</td>\n",
       "      <td>106.0</td>\n",
       "      <td>0.98746</td>\n",
       "      <td>8.21</td>\n",
       "      <td>0.83</td>\n",
       "      <td>14.0</td>\n",
       "      <td>9</td>\n",
       "      <td>melted</td>\n",
       "      <td>9.4</td>\n",
       "      <td>1.78</td>\n",
       "      <td>1</td>\n",
       "      <td>0</td>\n",
       "      <td>0</td>\n",
       "      <td>1</td>\n",
       "      <td>0</td>\n",
       "    </tr>\n",
       "    <tr>\n",
       "      <th>3</th>\n",
       "      <td>3</td>\n",
       "      <td>0.18</td>\n",
       "      <td>10.5</td>\n",
       "      <td>254.444444</td>\n",
       "      <td>41.0</td>\n",
       "      <td>124.0</td>\n",
       "      <td>0.99630</td>\n",
       "      <td>8.14</td>\n",
       "      <td>0.35</td>\n",
       "      <td>10.5</td>\n",
       "      <td>7</td>\n",
       "      <td>melted</td>\n",
       "      <td>12.2</td>\n",
       "      <td>1.59</td>\n",
       "      <td>1</td>\n",
       "      <td>0</td>\n",
       "      <td>0</td>\n",
       "      <td>0</td>\n",
       "      <td>0</td>\n",
       "    </tr>\n",
       "    <tr>\n",
       "      <th>4</th>\n",
       "      <td>4</td>\n",
       "      <td>0.24</td>\n",
       "      <td>2.4</td>\n",
       "      <td>410.000000</td>\n",
       "      <td>6.0</td>\n",
       "      <td>33.0</td>\n",
       "      <td>0.99740</td>\n",
       "      <td>8.09</td>\n",
       "      <td>0.57</td>\n",
       "      <td>9.4</td>\n",
       "      <td>5</td>\n",
       "      <td>cubed</td>\n",
       "      <td>19.8</td>\n",
       "      <td>1.30</td>\n",
       "      <td>1</td>\n",
       "      <td>0</td>\n",
       "      <td>1</td>\n",
       "      <td>1</td>\n",
       "      <td>0</td>\n",
       "    </tr>\n",
       "    <tr>\n",
       "      <th>...</th>\n",
       "      <td>...</td>\n",
       "      <td>...</td>\n",
       "      <td>...</td>\n",
       "      <td>...</td>\n",
       "      <td>...</td>\n",
       "      <td>...</td>\n",
       "      <td>...</td>\n",
       "      <td>...</td>\n",
       "      <td>...</td>\n",
       "      <td>...</td>\n",
       "      <td>...</td>\n",
       "      <td>...</td>\n",
       "      <td>...</td>\n",
       "      <td>...</td>\n",
       "      <td>...</td>\n",
       "      <td>...</td>\n",
       "      <td>...</td>\n",
       "      <td>...</td>\n",
       "      <td>...</td>\n",
       "    </tr>\n",
       "    <tr>\n",
       "      <th>5185</th>\n",
       "      <td>5193</td>\n",
       "      <td>0.66</td>\n",
       "      <td>2.0</td>\n",
       "      <td>198.888889</td>\n",
       "      <td>15.0</td>\n",
       "      <td>88.0</td>\n",
       "      <td>0.99357</td>\n",
       "      <td>8.66</td>\n",
       "      <td>0.60</td>\n",
       "      <td>11.5</td>\n",
       "      <td>6</td>\n",
       "      <td>cubed</td>\n",
       "      <td>11.6</td>\n",
       "      <td>1.36</td>\n",
       "      <td>0</td>\n",
       "      <td>0</td>\n",
       "      <td>0</td>\n",
       "      <td>0</td>\n",
       "      <td>1</td>\n",
       "    </tr>\n",
       "    <tr>\n",
       "      <th>5186</th>\n",
       "      <td>5194</td>\n",
       "      <td>0.16</td>\n",
       "      <td>1.5</td>\n",
       "      <td>254.444444</td>\n",
       "      <td>10.0</td>\n",
       "      <td>97.0</td>\n",
       "      <td>0.99170</td>\n",
       "      <td>8.48</td>\n",
       "      <td>0.44</td>\n",
       "      <td>10.7</td>\n",
       "      <td>8</td>\n",
       "      <td>melted</td>\n",
       "      <td>10.0</td>\n",
       "      <td>1.80</td>\n",
       "      <td>0</td>\n",
       "      <td>1</td>\n",
       "      <td>0</td>\n",
       "      <td>0</td>\n",
       "      <td>0</td>\n",
       "    </tr>\n",
       "    <tr>\n",
       "      <th>5187</th>\n",
       "      <td>5195</td>\n",
       "      <td>0.25</td>\n",
       "      <td>14.3</td>\n",
       "      <td>248.888889</td>\n",
       "      <td>79.0</td>\n",
       "      <td>149.0</td>\n",
       "      <td>0.99750</td>\n",
       "      <td>8.12</td>\n",
       "      <td>0.37</td>\n",
       "      <td>9.7</td>\n",
       "      <td>7</td>\n",
       "      <td>melted</td>\n",
       "      <td>13.4</td>\n",
       "      <td>1.07</td>\n",
       "      <td>1</td>\n",
       "      <td>0</td>\n",
       "      <td>1</td>\n",
       "      <td>0</td>\n",
       "      <td>0</td>\n",
       "    </tr>\n",
       "    <tr>\n",
       "      <th>5188</th>\n",
       "      <td>5196</td>\n",
       "      <td>0.33</td>\n",
       "      <td>1.4</td>\n",
       "      <td>293.333333</td>\n",
       "      <td>35.0</td>\n",
       "      <td>136.0</td>\n",
       "      <td>0.99380</td>\n",
       "      <td>8.63</td>\n",
       "      <td>0.78</td>\n",
       "      <td>10.3</td>\n",
       "      <td>8</td>\n",
       "      <td>melted</td>\n",
       "      <td>13.8</td>\n",
       "      <td>1.77</td>\n",
       "      <td>1</td>\n",
       "      <td>0</td>\n",
       "      <td>0</td>\n",
       "      <td>0</td>\n",
       "      <td>0</td>\n",
       "    </tr>\n",
       "    <tr>\n",
       "      <th>5189</th>\n",
       "      <td>5197</td>\n",
       "      <td>0.44</td>\n",
       "      <td>1.8</td>\n",
       "      <td>432.222222</td>\n",
       "      <td>28.0</td>\n",
       "      <td>68.0</td>\n",
       "      <td>0.99501</td>\n",
       "      <td>8.36</td>\n",
       "      <td>0.66</td>\n",
       "      <td>11.2</td>\n",
       "      <td>5</td>\n",
       "      <td>cubed</td>\n",
       "      <td>16.0</td>\n",
       "      <td>1.61</td>\n",
       "      <td>1</td>\n",
       "      <td>0</td>\n",
       "      <td>0</td>\n",
       "      <td>0</td>\n",
       "      <td>0</td>\n",
       "    </tr>\n",
       "  </tbody>\n",
       "</table>\n",
       "<p>5190 rows × 19 columns</p>\n",
       "</div>"
      ],
      "text/plain": [
       "      index  sugar to flour ratio  sugar index   bake temp  chill time  \\\n",
       "0         0                  0.25          9.5  148.888889        15.0   \n",
       "1         1                  0.23          3.3  271.111111        34.0   \n",
       "2         2                  0.18          1.9  182.222222        33.0   \n",
       "3         3                  0.18         10.5  254.444444        41.0   \n",
       "4         4                  0.24          2.4  410.000000         6.0   \n",
       "...     ...                   ...          ...         ...         ...   \n",
       "5185   5193                  0.66          2.0  198.888889        15.0   \n",
       "5186   5194                  0.16          1.5  254.444444        10.0   \n",
       "5187   5195                  0.25         14.3  248.888889        79.0   \n",
       "5188   5196                  0.33          1.4  293.333333        35.0   \n",
       "5189   5197                  0.44          1.8  432.222222        28.0   \n",
       "\n",
       "      calories  density    pH  grams baking soda  bake time  quality  \\\n",
       "0        136.0  0.99367  8.10               0.44       12.1        8   \n",
       "1        113.0  0.99429  8.16               0.48        8.4        7   \n",
       "2        106.0  0.98746  8.21               0.83       14.0        9   \n",
       "3        124.0  0.99630  8.14               0.35       10.5        7   \n",
       "4         33.0  0.99740  8.09               0.57        9.4        5   \n",
       "...        ...      ...   ...                ...        ...      ...   \n",
       "5185      88.0  0.99357  8.66               0.60       11.5        6   \n",
       "5186      97.0  0.99170  8.48               0.44       10.7        8   \n",
       "5187     149.0  0.99750  8.12               0.37        9.7        7   \n",
       "5188     136.0  0.99380  8.63               0.78       10.3        8   \n",
       "5189      68.0  0.99501  8.36               0.66       11.2        5   \n",
       "\n",
       "     butter type  weight  crunch factor  chocolate  raisins  oats  nuts  \\\n",
       "0         melted    15.2           1.30          0        1     0     0   \n",
       "1         melted    12.4           1.71          0        1     0     0   \n",
       "2         melted     9.4           1.78          1        0     0     1   \n",
       "3         melted    12.2           1.59          1        0     0     0   \n",
       "4          cubed    19.8           1.30          1        0     1     1   \n",
       "...          ...     ...            ...        ...      ...   ...   ...   \n",
       "5185       cubed    11.6           1.36          0        0     0     0   \n",
       "5186      melted    10.0           1.80          0        1     0     0   \n",
       "5187      melted    13.4           1.07          1        0     1     0   \n",
       "5188      melted    13.8           1.77          1        0     0     0   \n",
       "5189       cubed    16.0           1.61          1        0     0     0   \n",
       "\n",
       "      peanut butter  \n",
       "0                 0  \n",
       "1                 0  \n",
       "2                 0  \n",
       "3                 0  \n",
       "4                 0  \n",
       "...             ...  \n",
       "5185              1  \n",
       "5186              0  \n",
       "5187              0  \n",
       "5188              0  \n",
       "5189              0  \n",
       "\n",
       "[5190 rows x 19 columns]"
      ]
     },
     "execution_count": 21,
     "metadata": {},
     "output_type": "execute_result"
    }
   ],
   "source": [
    "# Check the proccess has been done correctly.\n",
    "cookies_removed_missing"
   ]
  },
  {
   "cell_type": "markdown",
   "metadata": {},
   "source": [
    "#### Processing the categorical columns - *Butter type*"
   ]
  },
  {
   "cell_type": "code",
   "execution_count": 22,
   "metadata": {},
   "outputs": [],
   "source": [
    "# OneHot encoding the 'butter type' column.\n",
    "from sklearn.preprocessing import OneHotEncoder\n",
    "oneH = OneHotEncoder()\n",
    "cookies_cat = cookies_removed_missing.select_dtypes(include=\"object\")\n",
    "cookies_cat_1H = oneH.fit_transform(cookies_cat)"
   ]
  },
  {
   "cell_type": "code",
   "execution_count": 23,
   "metadata": {},
   "outputs": [
    {
     "data": {
      "text/html": [
       "<div>\n",
       "<style scoped>\n",
       "    .dataframe tbody tr th:only-of-type {\n",
       "        vertical-align: middle;\n",
       "    }\n",
       "\n",
       "    .dataframe tbody tr th {\n",
       "        vertical-align: top;\n",
       "    }\n",
       "\n",
       "    .dataframe thead th {\n",
       "        text-align: right;\n",
       "    }\n",
       "</style>\n",
       "<table border=\"1\" class=\"dataframe\">\n",
       "  <thead>\n",
       "    <tr style=\"text-align: right;\">\n",
       "      <th></th>\n",
       "      <th>sugar to flour ratio</th>\n",
       "      <th>sugar index</th>\n",
       "      <th>bake temp</th>\n",
       "      <th>chill time</th>\n",
       "      <th>calories</th>\n",
       "      <th>density</th>\n",
       "      <th>pH</th>\n",
       "      <th>grams baking soda</th>\n",
       "      <th>bake time</th>\n",
       "      <th>quality</th>\n",
       "      <th>weight</th>\n",
       "      <th>crunch factor</th>\n",
       "      <th>chocolate</th>\n",
       "      <th>raisins</th>\n",
       "      <th>oats</th>\n",
       "      <th>nuts</th>\n",
       "      <th>peanut butter</th>\n",
       "      <th>1cubed/0melted</th>\n",
       "    </tr>\n",
       "  </thead>\n",
       "  <tbody>\n",
       "    <tr>\n",
       "      <th>0</th>\n",
       "      <td>0.25</td>\n",
       "      <td>9.5</td>\n",
       "      <td>148.888889</td>\n",
       "      <td>15.0</td>\n",
       "      <td>136.0</td>\n",
       "      <td>0.99367</td>\n",
       "      <td>8.10</td>\n",
       "      <td>0.44</td>\n",
       "      <td>12.1</td>\n",
       "      <td>8</td>\n",
       "      <td>15.2</td>\n",
       "      <td>1.30</td>\n",
       "      <td>0</td>\n",
       "      <td>1</td>\n",
       "      <td>0</td>\n",
       "      <td>0</td>\n",
       "      <td>0</td>\n",
       "      <td>0.0</td>\n",
       "    </tr>\n",
       "    <tr>\n",
       "      <th>1</th>\n",
       "      <td>0.23</td>\n",
       "      <td>3.3</td>\n",
       "      <td>271.111111</td>\n",
       "      <td>34.0</td>\n",
       "      <td>113.0</td>\n",
       "      <td>0.99429</td>\n",
       "      <td>8.16</td>\n",
       "      <td>0.48</td>\n",
       "      <td>8.4</td>\n",
       "      <td>7</td>\n",
       "      <td>12.4</td>\n",
       "      <td>1.71</td>\n",
       "      <td>0</td>\n",
       "      <td>1</td>\n",
       "      <td>0</td>\n",
       "      <td>0</td>\n",
       "      <td>0</td>\n",
       "      <td>0.0</td>\n",
       "    </tr>\n",
       "    <tr>\n",
       "      <th>2</th>\n",
       "      <td>0.18</td>\n",
       "      <td>1.9</td>\n",
       "      <td>182.222222</td>\n",
       "      <td>33.0</td>\n",
       "      <td>106.0</td>\n",
       "      <td>0.98746</td>\n",
       "      <td>8.21</td>\n",
       "      <td>0.83</td>\n",
       "      <td>14.0</td>\n",
       "      <td>9</td>\n",
       "      <td>9.4</td>\n",
       "      <td>1.78</td>\n",
       "      <td>1</td>\n",
       "      <td>0</td>\n",
       "      <td>0</td>\n",
       "      <td>1</td>\n",
       "      <td>0</td>\n",
       "      <td>0.0</td>\n",
       "    </tr>\n",
       "    <tr>\n",
       "      <th>3</th>\n",
       "      <td>0.18</td>\n",
       "      <td>10.5</td>\n",
       "      <td>254.444444</td>\n",
       "      <td>41.0</td>\n",
       "      <td>124.0</td>\n",
       "      <td>0.99630</td>\n",
       "      <td>8.14</td>\n",
       "      <td>0.35</td>\n",
       "      <td>10.5</td>\n",
       "      <td>7</td>\n",
       "      <td>12.2</td>\n",
       "      <td>1.59</td>\n",
       "      <td>1</td>\n",
       "      <td>0</td>\n",
       "      <td>0</td>\n",
       "      <td>0</td>\n",
       "      <td>0</td>\n",
       "      <td>0.0</td>\n",
       "    </tr>\n",
       "    <tr>\n",
       "      <th>4</th>\n",
       "      <td>0.24</td>\n",
       "      <td>2.4</td>\n",
       "      <td>410.000000</td>\n",
       "      <td>6.0</td>\n",
       "      <td>33.0</td>\n",
       "      <td>0.99740</td>\n",
       "      <td>8.09</td>\n",
       "      <td>0.57</td>\n",
       "      <td>9.4</td>\n",
       "      <td>5</td>\n",
       "      <td>19.8</td>\n",
       "      <td>1.30</td>\n",
       "      <td>1</td>\n",
       "      <td>0</td>\n",
       "      <td>1</td>\n",
       "      <td>1</td>\n",
       "      <td>0</td>\n",
       "      <td>1.0</td>\n",
       "    </tr>\n",
       "    <tr>\n",
       "      <th>...</th>\n",
       "      <td>...</td>\n",
       "      <td>...</td>\n",
       "      <td>...</td>\n",
       "      <td>...</td>\n",
       "      <td>...</td>\n",
       "      <td>...</td>\n",
       "      <td>...</td>\n",
       "      <td>...</td>\n",
       "      <td>...</td>\n",
       "      <td>...</td>\n",
       "      <td>...</td>\n",
       "      <td>...</td>\n",
       "      <td>...</td>\n",
       "      <td>...</td>\n",
       "      <td>...</td>\n",
       "      <td>...</td>\n",
       "      <td>...</td>\n",
       "      <td>...</td>\n",
       "    </tr>\n",
       "    <tr>\n",
       "      <th>5185</th>\n",
       "      <td>0.66</td>\n",
       "      <td>2.0</td>\n",
       "      <td>198.888889</td>\n",
       "      <td>15.0</td>\n",
       "      <td>88.0</td>\n",
       "      <td>0.99357</td>\n",
       "      <td>8.66</td>\n",
       "      <td>0.60</td>\n",
       "      <td>11.5</td>\n",
       "      <td>6</td>\n",
       "      <td>11.6</td>\n",
       "      <td>1.36</td>\n",
       "      <td>0</td>\n",
       "      <td>0</td>\n",
       "      <td>0</td>\n",
       "      <td>0</td>\n",
       "      <td>1</td>\n",
       "      <td>1.0</td>\n",
       "    </tr>\n",
       "    <tr>\n",
       "      <th>5186</th>\n",
       "      <td>0.16</td>\n",
       "      <td>1.5</td>\n",
       "      <td>254.444444</td>\n",
       "      <td>10.0</td>\n",
       "      <td>97.0</td>\n",
       "      <td>0.99170</td>\n",
       "      <td>8.48</td>\n",
       "      <td>0.44</td>\n",
       "      <td>10.7</td>\n",
       "      <td>8</td>\n",
       "      <td>10.0</td>\n",
       "      <td>1.80</td>\n",
       "      <td>0</td>\n",
       "      <td>1</td>\n",
       "      <td>0</td>\n",
       "      <td>0</td>\n",
       "      <td>0</td>\n",
       "      <td>0.0</td>\n",
       "    </tr>\n",
       "    <tr>\n",
       "      <th>5187</th>\n",
       "      <td>0.25</td>\n",
       "      <td>14.3</td>\n",
       "      <td>248.888889</td>\n",
       "      <td>79.0</td>\n",
       "      <td>149.0</td>\n",
       "      <td>0.99750</td>\n",
       "      <td>8.12</td>\n",
       "      <td>0.37</td>\n",
       "      <td>9.7</td>\n",
       "      <td>7</td>\n",
       "      <td>13.4</td>\n",
       "      <td>1.07</td>\n",
       "      <td>1</td>\n",
       "      <td>0</td>\n",
       "      <td>1</td>\n",
       "      <td>0</td>\n",
       "      <td>0</td>\n",
       "      <td>0.0</td>\n",
       "    </tr>\n",
       "    <tr>\n",
       "      <th>5188</th>\n",
       "      <td>0.33</td>\n",
       "      <td>1.4</td>\n",
       "      <td>293.333333</td>\n",
       "      <td>35.0</td>\n",
       "      <td>136.0</td>\n",
       "      <td>0.99380</td>\n",
       "      <td>8.63</td>\n",
       "      <td>0.78</td>\n",
       "      <td>10.3</td>\n",
       "      <td>8</td>\n",
       "      <td>13.8</td>\n",
       "      <td>1.77</td>\n",
       "      <td>1</td>\n",
       "      <td>0</td>\n",
       "      <td>0</td>\n",
       "      <td>0</td>\n",
       "      <td>0</td>\n",
       "      <td>0.0</td>\n",
       "    </tr>\n",
       "    <tr>\n",
       "      <th>5189</th>\n",
       "      <td>0.44</td>\n",
       "      <td>1.8</td>\n",
       "      <td>432.222222</td>\n",
       "      <td>28.0</td>\n",
       "      <td>68.0</td>\n",
       "      <td>0.99501</td>\n",
       "      <td>8.36</td>\n",
       "      <td>0.66</td>\n",
       "      <td>11.2</td>\n",
       "      <td>5</td>\n",
       "      <td>16.0</td>\n",
       "      <td>1.61</td>\n",
       "      <td>1</td>\n",
       "      <td>0</td>\n",
       "      <td>0</td>\n",
       "      <td>0</td>\n",
       "      <td>0</td>\n",
       "      <td>1.0</td>\n",
       "    </tr>\n",
       "  </tbody>\n",
       "</table>\n",
       "<p>5190 rows × 18 columns</p>\n",
       "</div>"
      ],
      "text/plain": [
       "      sugar to flour ratio  sugar index   bake temp  chill time  calories  \\\n",
       "0                     0.25          9.5  148.888889        15.0     136.0   \n",
       "1                     0.23          3.3  271.111111        34.0     113.0   \n",
       "2                     0.18          1.9  182.222222        33.0     106.0   \n",
       "3                     0.18         10.5  254.444444        41.0     124.0   \n",
       "4                     0.24          2.4  410.000000         6.0      33.0   \n",
       "...                    ...          ...         ...         ...       ...   \n",
       "5185                  0.66          2.0  198.888889        15.0      88.0   \n",
       "5186                  0.16          1.5  254.444444        10.0      97.0   \n",
       "5187                  0.25         14.3  248.888889        79.0     149.0   \n",
       "5188                  0.33          1.4  293.333333        35.0     136.0   \n",
       "5189                  0.44          1.8  432.222222        28.0      68.0   \n",
       "\n",
       "      density    pH  grams baking soda  bake time  quality  weight  \\\n",
       "0     0.99367  8.10               0.44       12.1        8    15.2   \n",
       "1     0.99429  8.16               0.48        8.4        7    12.4   \n",
       "2     0.98746  8.21               0.83       14.0        9     9.4   \n",
       "3     0.99630  8.14               0.35       10.5        7    12.2   \n",
       "4     0.99740  8.09               0.57        9.4        5    19.8   \n",
       "...       ...   ...                ...        ...      ...     ...   \n",
       "5185  0.99357  8.66               0.60       11.5        6    11.6   \n",
       "5186  0.99170  8.48               0.44       10.7        8    10.0   \n",
       "5187  0.99750  8.12               0.37        9.7        7    13.4   \n",
       "5188  0.99380  8.63               0.78       10.3        8    13.8   \n",
       "5189  0.99501  8.36               0.66       11.2        5    16.0   \n",
       "\n",
       "      crunch factor  chocolate  raisins  oats  nuts  peanut butter  \\\n",
       "0              1.30          0        1     0     0              0   \n",
       "1              1.71          0        1     0     0              0   \n",
       "2              1.78          1        0     0     1              0   \n",
       "3              1.59          1        0     0     0              0   \n",
       "4              1.30          1        0     1     1              0   \n",
       "...             ...        ...      ...   ...   ...            ...   \n",
       "5185           1.36          0        0     0     0              1   \n",
       "5186           1.80          0        1     0     0              0   \n",
       "5187           1.07          1        0     1     0              0   \n",
       "5188           1.77          1        0     0     0              0   \n",
       "5189           1.61          1        0     0     0              0   \n",
       "\n",
       "      1cubed/0melted  \n",
       "0                0.0  \n",
       "1                0.0  \n",
       "2                0.0  \n",
       "3                0.0  \n",
       "4                1.0  \n",
       "...              ...  \n",
       "5185             1.0  \n",
       "5186             0.0  \n",
       "5187             0.0  \n",
       "5188             0.0  \n",
       "5189             1.0  \n",
       "\n",
       "[5190 rows x 18 columns]"
      ]
     },
     "execution_count": 23,
     "metadata": {},
     "output_type": "execute_result"
    }
   ],
   "source": [
    "# We change 'butter type' column for a one hot column where 0 means \n",
    "cookies_removed_missing['1cubed/0melted'] = pd.DataFrame.sparse.from_spmatrix(cookies_cat_1H, columns = oneH.get_feature_names())['x0_cubed']\n",
    "cookies_removed_missing.drop(columns = ['index','butter type'], inplace = True)\n",
    "cookies_removed_missing"
   ]
  },
  {
   "cell_type": "code",
   "execution_count": 24,
   "metadata": {},
   "outputs": [],
   "source": [
    "cookies_processed = cookies_removed_missing.copy()\n",
    "cookies_processed.to_csv('data/cookies-raw.csv')"
   ]
  },
  {
   "cell_type": "markdown",
   "metadata": {},
   "source": [
    "## Outliers"
   ]
  },
  {
   "cell_type": "markdown",
   "metadata": {},
   "source": [
    "Having all the columns with the desired type and with no missing values we proceed to explore de data and determine whereas there are outliers that can affect negatively our model. First, we plot the columns to have an initial idea of the distribution and wide of the values."
   ]
  },
  {
   "cell_type": "code",
   "execution_count": 25,
   "metadata": {},
   "outputs": [
    {
     "data": {
      "image/png": "[encoded data removed]",
      "text/plain": [
       "<Figure size 1728x1152 with 12 Axes>"
      ]
     },
     "metadata": {
      "needs_background": "light"
     },
     "output_type": "display_data"
    }
   ],
   "source": [
    "fig, ax = plt.subplots(3, 4, figsize = (24,16))\n",
    "for i in range(4):\n",
    "    sns.boxplot(cookies_processed[cookies_processed.columns[i]], ax = ax[0, i])\n",
    "    sns.boxplot(cookies_processed[cookies_processed.columns[i+5]], ax = ax[1, i])\n",
    "    sns.boxplot(cookies_processed[cookies_processed.columns[i+9]], ax = ax[2, i])\n",
    "    ax[0,0].set_title(cookies_processed.columns[i])\n",
    "    ax[1,1].set_title(cookies_processed.columns[i+5])\n",
    "    ax[2,0].set_title(cookies_processed.columns[i+9])"
   ]
  },
  {
   "cell_type": "code",
   "execution_count": 26,
   "metadata": {
    "scrolled": true
   },
   "outputs": [
    {
     "data": {
      "image/png": "[encoded data removed]",
      "text/plain": [
       "<Figure size 1728x1152 with 12 Axes>"
      ]
     },
     "metadata": {
      "needs_background": "light"
     },
     "output_type": "display_data"
    }
   ],
   "source": [
    "fig, ax = plt.subplots(3, 4, figsize = (24,16))\n",
    "for i in range(4):\n",
    "    sns.distplot(cookies_processed[cookies_processed.columns[i]], ax = ax[0, i])\n",
    "    sns.distplot(cookies_processed[cookies_processed.columns[i+5]], ax = ax[1, i])\n",
    "    sns.distplot(cookies_processed[cookies_processed.columns[i+9]], ax = ax[2, i])\n",
    "    ax[0,0].set_title(cookies_processed.columns[i])\n",
    "    ax[1,1].set_title(cookies_processed.columns[i+5])\n",
    "    ax[2,0].set_title(cookies_processed.columns[i+9])"
   ]
  },
  {
   "cell_type": "markdown",
   "metadata": {},
   "source": [
    "We see some of the columns follow a normal distribution that is affected by extreme values. Then, we're going to determine if these extreme values can be determined as outliers and if so drop them from the dataframe."
   ]
  },
  {
   "cell_type": "code",
   "execution_count": 27,
   "metadata": {
    "collapsed": true
   },
   "outputs": [
    {
     "name": "stdout",
     "output_type": "stream",
     "text": [
      "(array([  13,   16,   18,   44,   44,   55,   69,   77,   85,  138,  205,\n",
      "        233,  239,  239,  240,  258,  271,  287,  300,  300,  312,  319,\n",
      "        325,  325,  334,  356,  366,  385,  392,  424,  433,  433,  447,\n",
      "        506,  515,  517,  541,  549,  559,  582,  591,  605,  637,  681,\n",
      "        690,  690,  710,  718,  736,  740,  747,  758,  797,  803,  810,\n",
      "        811,  827,  833,  836,  873,  883,  885,  886,  887,  910,  954,\n",
      "        971,  973,  983, 1000, 1000, 1029, 1033, 1045, 1057, 1093, 1095,\n",
      "       1134, 1144, 1144, 1179, 1210, 1220, 1227, 1240, 1240, 1265, 1267,\n",
      "       1279, 1325, 1340, 1376, 1377, 1428, 1432, 1440, 1463, 1476, 1479,\n",
      "       1496, 1499, 1601, 1609, 1623, 1654, 1658, 1696, 1704, 1731, 1777,\n",
      "       1789, 1797, 1833, 1838, 1869, 1874, 1876, 1876, 1880, 1907, 1930,\n",
      "       1931, 1932, 2022, 2029, 2042, 2061, 2097, 2097, 2097, 2117, 2137,\n",
      "       2176, 2177, 2194, 2196, 2197, 2252, 2294, 2329, 2344, 2356, 2388,\n",
      "       2390, 2393, 2395, 2413, 2451, 2456, 2468, 2510, 2531, 2586, 2597,\n",
      "       2618, 2658, 2659, 2680, 2711, 2744, 2750, 2755, 2758, 2784, 2788,\n",
      "       2788, 2789, 2795, 2805, 2806, 2812, 2823, 2826, 2831, 2875, 2879,\n",
      "       2906, 2911, 2916, 2917, 2923, 2932, 2937, 2958, 2994, 3007, 3050,\n",
      "       3054, 3084, 3084, 3093, 3094, 3095, 3112, 3124, 3189, 3193, 3209,\n",
      "       3209, 3237, 3248, 3256, 3263, 3269, 3269, 3285, 3326, 3333, 3349,\n",
      "       3385, 3388, 3395, 3428, 3428, 3445, 3445, 3446, 3465, 3472, 3519,\n",
      "       3526, 3527, 3566, 3577, 3602, 3607, 3619, 3638, 3644, 3675, 3683,\n",
      "       3686, 3692, 3699, 3715, 3723, 3727, 3819, 3819, 3846, 3861, 3861,\n",
      "       3878, 3895, 3903, 3915, 3917, 3932, 3951, 3951, 3954, 3981, 3984,\n",
      "       3986, 4033, 4065, 4094, 4119, 4119, 4120, 4135, 4137, 4141, 4146,\n",
      "       4158, 4158, 4231, 4239, 4258, 4258, 4338, 4338, 4387, 4395, 4404,\n",
      "       4406, 4424, 4457, 4553, 4564, 4632, 4645, 4670, 4711, 4722, 4740,\n",
      "       4824, 4826, 4835, 4849, 4849, 4856, 4870, 4892, 4894, 4898, 4902,\n",
      "       4902, 4928, 4955, 4959, 4979, 5011, 5029, 5037, 5037, 5062, 5087,\n",
      "       5100, 5162], dtype=int64), array([1, 3, 4, 1, 5, 0, 1, 6, 2, 5, 6, 0, 1, 5, 1, 2, 2, 6, 1, 5, 1, 6,\n",
      "       0, 1, 6, 6, 5, 1, 6, 6, 1, 5, 6, 6, 6, 6, 2, 6, 6, 0, 5, 6, 5, 6,\n",
      "       5, 6, 6, 1, 6, 1, 2, 1, 1, 5, 1, 6, 5, 6, 2, 1, 2, 5, 5, 1, 6, 6,\n",
      "       6, 6, 1, 1, 5, 6, 6, 6, 6, 6, 6, 1, 1, 5, 5, 1, 6, 1, 0, 1, 6, 6,\n",
      "       2, 2, 6, 6, 0, 6, 5, 6, 1, 6, 1, 6, 0, 0, 6, 6, 1, 5, 1, 5, 5, 6,\n",
      "       6, 6, 6, 0, 1, 2, 1, 5, 1, 6, 2, 0, 6, 6, 2, 6, 1, 0, 1, 5, 6, 1,\n",
      "       2, 1, 2, 2, 6, 5, 6, 0, 1, 1, 5, 6, 6, 2, 6, 2, 1, 6, 1, 0, 6, 5,\n",
      "       1, 6, 6, 0, 6, 5, 6, 1, 6, 0, 1, 5, 5, 6, 1, 6, 6, 2, 1, 6, 6, 6,\n",
      "       1, 1, 1, 0, 1, 5, 6, 1, 6, 6, 1, 6, 1, 5, 6, 5, 2, 6, 6, 6, 1, 0,\n",
      "       1, 6, 6, 5, 2, 1, 5, 1, 6, 6, 6, 6, 1, 1, 1, 5, 1, 5, 6, 2, 5, 5,\n",
      "       5, 6, 6, 0, 6, 2, 5, 6, 5, 5, 5, 6, 2, 1, 5, 1, 2, 1, 5, 5, 1, 5,\n",
      "       1, 6, 0, 6, 6, 5, 1, 5, 6, 0, 3, 1, 1, 6, 0, 5, 6, 6, 1, 5, 6, 1,\n",
      "       1, 5, 6, 2, 1, 5, 5, 6, 6, 6, 2, 2, 2, 6, 0, 6, 1, 2, 0, 5, 5, 1,\n",
      "       1, 2, 6, 5, 6, 2, 1, 6, 6, 1, 5, 6, 5, 1, 1, 1, 1, 2, 1, 5, 1, 6,\n",
      "       6, 1], dtype=int64))\n"
     ]
    }
   ],
   "source": [
    "x = cookies_processed[['sugar to flour ratio', 'bake temp', 'chill time', 'density', 'pH', 'grams baking soda', 'weight']].copy()\n",
    "outliers = np.abs(stats.zscore(x))\n",
    "threshold = 3\n",
    "print(np.where(outliers>3))"
   ]
  },
  {
   "cell_type": "code",
   "execution_count": 28,
   "metadata": {
    "scrolled": true
   },
   "outputs": [],
   "source": [
    "cookies_cleaned = cookies_processed[(outliers<3).all(axis = 1)].copy()\n",
    "cookies_cleaned.reset_index(inplace = True)\n",
    "cookies_cleaned.drop(columns = 'index', inplace = True)"
   ]
  },
  {
   "cell_type": "code",
   "execution_count": 29,
   "metadata": {},
   "outputs": [],
   "source": [
    "# 'Quality' column doesn't follow a normal distribution but having a score of eleven does not make sense so we drop the rows with\n",
    "# quality values equal to 11.\n",
    "cookies_cleaned.drop(cookies_cleaned[cookies_cleaned['quality'] == 11].index, inplace = True)\n",
    "cookies_cleaned.reset_index(inplace = True)\n",
    "cookies_cleaned.drop(columns = 'index', inplace = True)"
   ]
  },
  {
   "cell_type": "code",
   "execution_count": 30,
   "metadata": {
    "scrolled": true
   },
   "outputs": [
    {
     "data": {
      "image/png": "[encoded data removed]",
      "text/plain": [
       "<Figure size 1728x1152 with 12 Axes>"
      ]
     },
     "metadata": {
      "needs_background": "light"
     },
     "output_type": "display_data"
    }
   ],
   "source": [
    "fig, ax = plt.subplots(3, 4, figsize = (24,16))\n",
    "for i in range(4):\n",
    "    sns.boxplot(cookies_cleaned[cookies_cleaned.columns[i]], ax = ax[0, i])\n",
    "    sns.boxplot(cookies_cleaned[cookies_cleaned.columns[i+5]], ax = ax[1, i])\n",
    "    sns.boxplot(cookies_cleaned[cookies_cleaned.columns[i+9]], ax = ax[2, i])\n",
    "    ax[0,0].set_title(cookies_cleaned.columns[i])\n",
    "    ax[1,1].set_title(cookies_cleaned.columns[i+5])\n",
    "    ax[2,0].set_title(cookies_cleaned.columns[i+9])"
   ]
  },
  {
   "cell_type": "code",
   "execution_count": 31,
   "metadata": {},
   "outputs": [],
   "source": [
    "# We can see data has a more robust distribution now.\n",
    "cookies_cleaned.to_csv('data/cookies-cleaned.csv')"
   ]
  },
  {
   "cell_type": "markdown",
   "metadata": {},
   "source": [
    "## Cleaning Validation Data"
   ]
  },
  {
   "cell_type": "markdown",
   "metadata": {},
   "source": [
    "Having the general data cleaned, we apply the same transformations to the validation data so it has the same format as our general data. We skip the outliers treatment part as we can't drop any row."
   ]
  },
  {
   "cell_type": "code",
   "execution_count": 32,
   "metadata": {},
   "outputs": [],
   "source": [
    "cookies_validation = pd.read_csv('data/cookies_validate.csv')\n",
    "cookies_validation.drop(columns = 'diameter', inplace = True)\n",
    "cookies_validation.drop(columns = 'aesthetic appeal', inplace = True)\n",
    "cookies_validation['bake temp'] = (cookies_validation['bake temp'] - 32)*5/9\n",
    "\n",
    "mix_list = ['chocolate', 'raisins', 'oats', 'nuts', 'peanut butter']\n",
    "\n",
    "for m in mix_list:\n",
    "    cookies_validation[m] = 0\n",
    "    cookies_validation[m] = cookies_validation['mixins'].str.contains(m).astype(int)\n",
    "cookies_validation.drop(columns = 'mixins', inplace = True)\n",
    "cookies_validation.reset_index(inplace = True)\n",
    "\n",
    "from sklearn.preprocessing import OneHotEncoder\n",
    "oneH = OneHotEncoder()\n",
    "cookies_cat = cookies_validation.select_dtypes(include=\"object\")\n",
    "cookies_cat_1H = oneH.fit_transform(cookies_cat)\n",
    "cookies_validation['1cubed/0melted'] = pd.DataFrame.sparse.from_spmatrix(cookies_cat_1H, columns = oneH.get_feature_names())['x0_cubed']\n",
    "cookies_validation.drop(columns = ['index','butter type'], inplace = True)\n",
    "cookies_validation.to_csv('data/cookies_to_validate.csv')"
   ]
  },
  {
   "cell_type": "markdown",
   "metadata": {},
   "source": [
    "---"
   ]
  },
  {
   "cell_type": "markdown",
   "metadata": {},
   "source": [
    "## Preprocessing"
   ]
  },
  {
   "cell_type": "markdown",
   "metadata": {},
   "source": [
    "Having bot datasets cleaned we proceed to preprocess the data to a suitable format for the future models that we'll apply. We'll first search for columns that don't contribute to the predictive variable or columns that have high collinearity with other columns of the dataset. Both datasets will be preprocessed exactly the same, except for data splitting the general dataset."
   ]
  },
  {
   "cell_type": "code",
   "execution_count": 33,
   "metadata": {},
   "outputs": [],
   "source": [
    "                                                        # Training Data\n",
    "# import df\n",
    "cookies = pd.read_csv(\"data/cookies-cleaned.csv\", index_col = 0)\n",
    "\n",
    "# define X and y (features and target)\n",
    "X = cookies.drop(columns=\"quality\") # every column except for quality\n",
    "y = cookies[\"quality\"]"
   ]
  },
  {
   "cell_type": "code",
   "execution_count": 34,
   "metadata": {},
   "outputs": [],
   "source": [
    "                                                        # Validation Data\n",
    "# import df\n",
    "cookies_to_validate =  pd.read_csv(\"data/cookies_to_validate.csv\", index_col = 0)\n",
    "\n",
    "#dropping column\n",
    "cookies_to_validate.drop(columns = \"id\", inplace=True)\n",
    "\n",
    "# define X and y (features and target)\n",
    "X_validate = cookies_to_validate.drop(columns=\"quality\") # every column except for SalePrice\n",
    "y_validate = cookies_to_validate[\"quality\"]"
   ]
  },
  {
   "cell_type": "markdown",
   "metadata": {},
   "source": [
    "### Colinearity"
   ]
  },
  {
   "cell_type": "code",
   "execution_count": 36,
   "metadata": {},
   "outputs": [
    {
     "data": {
      "image/png": "[encoded data removed]",
      "text/plain": [
       "<Figure size 1008x1008 with 2 Axes>"
      ]
     },
     "metadata": {
      "needs_background": "light"
     },
     "output_type": "display_data"
    }
   ],
   "source": [
    "# Colinearity Matrix\n",
    "\n",
    "fig, ax = plt.subplots(figsize=(14,14))\n",
    "corrMatrix = cookies.corr().abs()\n",
    "sns.heatmap(corrMatrix, annot=True);"
   ]
  },
  {
   "cell_type": "code",
   "execution_count": 37,
   "metadata": {},
   "outputs": [],
   "source": [
    "# Dropping columns with a low correlation with y (Training Data)\n",
    "X.drop([\"oats\", \"crunch factor\"], axis=1, inplace=True)\n",
    "# Dropping columns with a low correlation with y (Validation Data)\n",
    "X_validate.drop([\"oats\", \"crunch factor\"], axis=1, inplace=True)"
   ]
  },
  {
   "cell_type": "code",
   "execution_count": 38,
   "metadata": {},
   "outputs": [
    {
     "data": {
      "text/plain": [
       "['raisins']"
      ]
     },
     "execution_count": 38,
     "metadata": {},
     "output_type": "execute_result"
    }
   ],
   "source": [
    "# Diagonal Correlation Matrix\n",
    "upper = corrMatrix.where(np.triu(np.ones(corrMatrix.shape), k=1).astype(np.bool))\n",
    "\n",
    "# Identifying columns with a colinearity above 0.90\n",
    "to_drop = [column for column in upper.columns if any(upper[column] > 0.90)] \n",
    "to_drop "
   ]
  },
  {
   "cell_type": "code",
   "execution_count": 39,
   "metadata": {},
   "outputs": [],
   "source": [
    "# Dropping colinearity columns selected (Training Data)\n",
    "X.drop(columns=to_drop, inplace=True)\n",
    "# Dropping colinearity columns selected (Validation Data)\n",
    "X_validate.drop(columns=to_drop, inplace=True)"
   ]
  },
  {
   "cell_type": "markdown",
   "metadata": {},
   "source": [
    "### Data Split"
   ]
  },
  {
   "cell_type": "markdown",
   "metadata": {},
   "source": [
    "As said above, we only split the data from the general dataset."
   ]
  },
  {
   "cell_type": "code",
   "execution_count": 40,
   "metadata": {},
   "outputs": [],
   "source": [
    "# Splitting Data\n",
    "\n",
    "from sklearn.model_selection import train_test_split\n",
    "\n",
    "X_train, X_test, y_train, y_test = train_test_split(X, y, test_size=0.2)\n",
    "\n",
    "# training datasets to DataFrame again to manipulate them\n",
    "X_train = pd.DataFrame(X_train, columns= X.columns)\n",
    "X_test = pd.DataFrame(X_test, columns= X.columns)"
   ]
  },
  {
   "cell_type": "markdown",
   "metadata": {},
   "source": [
    "### Scaling Data"
   ]
  },
  {
   "cell_type": "markdown",
   "metadata": {},
   "source": [
    "We fit the scaler with the *X_train* data and then we transform all X subsets."
   ]
  },
  {
   "cell_type": "code",
   "execution_count": 41,
   "metadata": {},
   "outputs": [],
   "source": [
    "from sklearn.preprocessing import StandardScaler\n",
    "scaler = StandardScaler() # initiate transformer\n",
    "\n",
    "# Scaling general data\n",
    "scaler.fit_transform(X_train) # scale data\n",
    "scaler.transform(X_test);\n",
    "\n",
    "# Scaling validation data\n",
    "scaler.transform(X_validate);"
   ]
  },
  {
   "cell_type": "markdown",
   "metadata": {},
   "source": [
    "## Testing Models"
   ]
  },
  {
   "cell_type": "markdown",
   "metadata": {},
   "source": [
    "Then, we start testing different models with our data to determine if one is best in predicting the cookies quality. We'll deep in the model that gives the best RMSE to try to tune it and obtain a lower RMSE."
   ]
  },
  {
   "cell_type": "markdown",
   "metadata": {},
   "source": [
    "#### Linear Regression"
   ]
  },
  {
   "cell_type": "code",
   "execution_count": 42,
   "metadata": {},
   "outputs": [
    {
     "data": {
      "text/plain": [
       "LinearRegression()"
      ]
     },
     "execution_count": 42,
     "metadata": {},
     "output_type": "execute_result"
    }
   ],
   "source": [
    "from sklearn.linear_model import LinearRegression\n",
    "\n",
    "reg = LinearRegression()\n",
    "reg.fit(X_train, y_train)"
   ]
  },
  {
   "cell_type": "code",
   "execution_count": 43,
   "metadata": {},
   "outputs": [
    {
     "name": "stdout",
     "output_type": "stream",
     "text": [
      "Train RMSE: 0.7434744813143196\n",
      "Test RMSE: 0.699227268649082\n"
     ]
    }
   ],
   "source": [
    "# RMSE values\n",
    "from sklearn.metrics import mean_squared_error\n",
    "\n",
    "reg_y_train_pred = reg.predict(X_train)\n",
    "rmse = math.sqrt(mean_squared_error(y_train, reg_y_train_pred))\n",
    "print(\"Train RMSE:\", rmse)\n",
    "\n",
    "reg_y_test_pred = reg.predict(X_test)\n",
    "rmse = math.sqrt(mean_squared_error(y_test, reg_y_test_pred))\n",
    "print(\"Test RMSE:\", rmse)\n",
    "\n",
    "reg_y_validate_pred = reg.predict(X_validate)"
   ]
  },
  {
   "cell_type": "markdown",
   "metadata": {},
   "source": [
    "#### KNeighbors Regression"
   ]
  },
  {
   "cell_type": "code",
   "execution_count": 181,
   "metadata": {},
   "outputs": [
    {
     "name": "stdout",
     "output_type": "stream",
     "text": [
      "--- 17.157651901245117 seconds ---\n",
      "-0.75\n"
     ]
    }
   ],
   "source": [
    "# libraries\n",
    "from sklearn.neighbors import KNeighborsRegressor\n",
    "from sklearn.model_selection import RandomizedSearchCV \n",
    "\n",
    "# KNeighborsRegressor Cross Validation \n",
    "\n",
    "start_time = time.time()\n",
    "neigh1 = KNeighborsRegressor()\n",
    "\n",
    "param_distribs={\"n_neighbors\": randint(low=3, high=1000), \n",
    "                \"weights\":[\"uniform\", \"distance\"],\n",
    "                \"p\":[1,2]}\n",
    "\n",
    "neigh1_search = RandomizedSearchCV(neigh1, \n",
    "                                   param_distribs,\n",
    "                                   scoring=\"neg_root_mean_squared_error\",\n",
    "                                   n_iter=100,\n",
    "                                   cv=10,\n",
    "                                   n_jobs=4)\n",
    "\n",
    "neigh1_search.fit(X_train, y_train)\n",
    "\n",
    "print(\"--- %s seconds ---\" % (time.time() - start_time))\n",
    "print(round(neigh1_search.best_score_, 2))"
   ]
  },
  {
   "cell_type": "code",
   "execution_count": 182,
   "metadata": {},
   "outputs": [
    {
     "name": "stdout",
     "output_type": "stream",
     "text": [
      "Train RMSE: 0.0\n",
      "Test RMSE: 0.6982289136630648\n"
     ]
    }
   ],
   "source": [
    "BN1 = KNeighborsRegressor(n_neighbors = neigh1_search.best_params_['n_neighbors'], p = neigh1_search.best_params_['p'],\n",
    "                          weights = neigh1_search.best_params_['weights'] )\n",
    "BN1.fit(X_train, y_train)\n",
    "\n",
    "BN1_y_train_pred = BN1.predict(X_train)\n",
    "rmse = math.sqrt(mean_squared_error(y_train, BN1_y_train_pred))\n",
    "print(\"Train RMSE:\", rmse)\n",
    "\n",
    "BN1_y_test_pred = BN1.predict(X_test)\n",
    "rmse = math.sqrt(mean_squared_error(y_test, BN1_y_test_pred))\n",
    "print(\"Test RMSE:\", rmse)\n",
    "\n",
    "BN1_y_validate_pred = BN1.predict(X_validate)"
   ]
  },
  {
   "cell_type": "markdown",
   "metadata": {},
   "source": [
    "#### KNeighbors Classifier"
   ]
  },
  {
   "cell_type": "code",
   "execution_count": 46,
   "metadata": {},
   "outputs": [
    {
     "name": "stdout",
     "output_type": "stream",
     "text": [
      "--- 1.840916633605957 seconds ---\n",
      "-0.85\n"
     ]
    }
   ],
   "source": [
    "# libraries\n",
    "from sklearn.neighbors import KNeighborsClassifier\n",
    "\n",
    "# KNeighborsClassifier Cross Validation \n",
    "\n",
    "start_time = time.time()\n",
    "neigh2 = KNeighborsClassifier()\n",
    "\n",
    "param_distribs={\"n_neighbors\": randint(low=3, high=100), #randint is the function from scipy\n",
    "                \"weights\":[\"uniform\", \"distance\"],\n",
    "                \"p\":[1,2]}\n",
    "\n",
    "neigh2_search = RandomizedSearchCV(neigh2, # model initializer\n",
    "                                   param_distribs,\n",
    "                                   scoring=\"neg_root_mean_squared_error\",\n",
    "                                   n_iter=20,\n",
    "                                   cv=5,\n",
    "                                   n_jobs=4)\n",
    "\n",
    "neigh2_search.fit(X_train, y_train)\n",
    "\n",
    "print(\"--- %s seconds ---\" % (time.time() - start_time))\n",
    "print(round(neigh2_search.best_score_, 2))"
   ]
  },
  {
   "cell_type": "code",
   "execution_count": 47,
   "metadata": {},
   "outputs": [
    {
     "name": "stdout",
     "output_type": "stream",
     "text": [
      "Train RMSE: 0.0\n",
      "Test RMSE: 0.6995123126658632\n"
     ]
    }
   ],
   "source": [
    "BN2 = KNeighborsRegressor(n_neighbors = neigh2_search.best_params_['n_neighbors'], p = neigh2_search.best_params_['p'],\n",
    "                          weights = neigh2_search.best_params_['weights'] )\n",
    "BN2.fit(X_train, y_train)\n",
    "\n",
    "BN2_y_train_pred = BN2.predict(X_train)\n",
    "rmse = math.sqrt(mean_squared_error(y_train, BN2_y_train_pred))\n",
    "print(\"Train RMSE:\", rmse)\n",
    "\n",
    "BN2_y_test_pred = BN2.predict(X_test)\n",
    "rmse = math.sqrt(mean_squared_error(y_test, BN2_y_test_pred))\n",
    "print(\"Test RMSE:\", rmse)\n",
    "\n",
    "BN2_y_validate_pred = BN2.predict(X_validate)"
   ]
  },
  {
   "cell_type": "markdown",
   "metadata": {},
   "source": [
    "#### Random Forest"
   ]
  },
  {
   "cell_type": "code",
   "execution_count": 199,
   "metadata": {},
   "outputs": [
    {
     "data": {
      "text/plain": [
       "RandomForestRegressor(n_estimators=750)"
      ]
     },
     "execution_count": 199,
     "metadata": {},
     "output_type": "execute_result"
    }
   ],
   "source": [
    "from sklearn.ensemble import RandomForestRegressor\n",
    "from sklearn.model_selection import GridSearchCV\n",
    "\n",
    "RF = RandomForestRegressor(n_estimators=750)\n",
    "\n",
    "RF.fit(X_train, y_train)"
   ]
  },
  {
   "cell_type": "code",
   "execution_count": 200,
   "metadata": {},
   "outputs": [
    {
     "name": "stdout",
     "output_type": "stream",
     "text": [
      "Train RMSE: 0.22883520667931959\n",
      "Test RMSE: 0.5855099274854805\n"
     ]
    }
   ],
   "source": [
    "RF_y_train_pred = RF.predict(X_train)\n",
    "rmse = math.sqrt(mean_squared_error(y_train, RF_y_train_pred))\n",
    "print(\"Train RMSE:\", rmse)\n",
    "\n",
    "RF_y_test_pred = RF.predict(X_test)\n",
    "rmse = math.sqrt(mean_squared_error(y_test, RF_y_test_pred))\n",
    "print(\"Test RMSE:\", rmse)\n",
    "\n",
    "RF_y_validate_pred = RF.predict(X_validate)"
   ]
  },
  {
   "cell_type": "markdown",
   "metadata": {},
   "source": [
    "We observe that RandomForestProgressor has a promising very low RMSE so we'll try to tune it to obtain the best RandomForestRegressor. In order to achieve it we'll first conduct a randomized search cross validation to obtain the best parameters and then a grid search with values around the best parameters."
   ]
  },
  {
   "cell_type": "markdown",
   "metadata": {},
   "source": [
    "##### Randomized Search"
   ]
  },
  {
   "cell_type": "code",
   "execution_count": 55,
   "metadata": {
    "scrolled": true
   },
   "outputs": [
    {
     "name": "stdout",
     "output_type": "stream",
     "text": [
      "Fitting 5 folds for each of 100 candidates, totalling 500 fits\n"
     ]
    },
    {
     "name": "stderr",
     "output_type": "stream",
     "text": [
      "[Parallel(n_jobs=-1)]: Using backend LokyBackend with 8 concurrent workers.\n",
      "[Parallel(n_jobs=-1)]: Done  25 tasks      | elapsed:  1.6min\n",
      "[Parallel(n_jobs=-1)]: Done 146 tasks      | elapsed:  5.9min\n",
      "[Parallel(n_jobs=-1)]: Done 349 tasks      | elapsed: 14.3min\n",
      "[Parallel(n_jobs=-1)]: Done 500 out of 500 | elapsed: 19.0min finished\n"
     ]
    },
    {
     "data": {
      "text/plain": [
       "RandomizedSearchCV(cv=5, estimator=RandomForestRegressor(), n_iter=100,\n",
       "                   n_jobs=-1,\n",
       "                   param_distributions={'bootstrap': [True, False],\n",
       "                                        'max_depth': [10, 20, 30, 40, 50, 60,\n",
       "                                                      70, 80, 90, 100, 110],\n",
       "                                        'max_features': ['auto', 'sqrt'],\n",
       "                                        'min_samples_leaf': [1, 2, 4],\n",
       "                                        'min_samples_split': [2, 5, 10],\n",
       "                                        'n_estimators': [200, 400, 600, 800,\n",
       "                                                         1000, 1200, 1400, 1600,\n",
       "                                                         1800, 2000]},\n",
       "                   scoring='neg_root_mean_squared_error', verbose=2)"
      ]
     },
     "execution_count": 55,
     "metadata": {},
     "output_type": "execute_result"
    }
   ],
   "source": [
    "# Create the random grid\n",
    "random_grid = {'n_estimators': [int(x) for x in np.linspace(start = 200, stop = 2000, num = 10)],\n",
    "               'max_features': ['auto', 'sqrt'],\n",
    "               'max_depth': [int(x) for x in np.linspace(10, 110, num = 11)],\n",
    "               'min_samples_split': [2, 5, 10],\n",
    "               'min_samples_leaf': [1, 2, 4],\n",
    "               'bootstrap': [True, False]}\n",
    "# Use the random grid to search for best hyperparameters\n",
    "# First create the base model to tune\n",
    "rf = RandomForestRegressor()\n",
    "# Random search of parameters, using 3 fold cross validation, \n",
    "# search across 100 different combinations, and use all available cores\n",
    "rf_random = RandomizedSearchCV(estimator = rf, param_distributions = random_grid, n_iter = 100,\n",
    "                               scoring = 'neg_root_mean_squared_error', cv = 5, verbose=2, n_jobs = -1)\n",
    "# Fit the random search model\n",
    "rf_random.fit(X_train, y_train)"
   ]
  },
  {
   "cell_type": "code",
   "execution_count": 56,
   "metadata": {},
   "outputs": [
    {
     "data": {
      "text/plain": [
       "{'n_estimators': 2000,\n",
       " 'min_samples_split': 2,\n",
       " 'min_samples_leaf': 1,\n",
       " 'max_features': 'sqrt',\n",
       " 'max_depth': 30,\n",
       " 'bootstrap': False}"
      ]
     },
     "execution_count": 56,
     "metadata": {},
     "output_type": "execute_result"
    }
   ],
   "source": [
    "rf_random.best_params_"
   ]
  },
  {
   "cell_type": "code",
   "execution_count": 198,
   "metadata": {
    "scrolled": true
   },
   "outputs": [
    {
     "name": "stdout",
     "output_type": "stream",
     "text": [
      "Train RMSE: 0.000534445830746794\n",
      "Test RMSE: 0.5710684056175974\n"
     ]
    }
   ],
   "source": [
    "BRF = RandomForestRegressor(n_estimators =  2000, min_samples_split = 2, min_samples_leaf = 1, max_features = 'sqrt', \n",
    "                                max_depth =  30, bootstrap = False)\n",
    "BRF.fit(X_train, y_train)\n",
    "BRF_y_train_pred = BRF.predict(X_train)\n",
    "rmse = math.sqrt(mean_squared_error(y_train, BRF_y_train_pred))\n",
    "print(\"Train RMSE:\", rmse)\n",
    "\n",
    "BRF_y_test_pred = BRF.predict(X_test)\n",
    "rmse = math.sqrt(mean_squared_error(y_test, BRF_y_test_pred))\n",
    "print(\"Test RMSE:\", rmse)\n",
    "\n",
    "BRF_y_validate_pred = BRF.predict(X_validate)"
   ]
  },
  {
   "cell_type": "markdown",
   "metadata": {},
   "source": [
    "##### Grid Search"
   ]
  },
  {
   "cell_type": "code",
   "execution_count": 135,
   "metadata": {},
   "outputs": [
    {
     "data": {
      "text/plain": [
       "{'n_estimators': 2000,\n",
       " 'min_samples_split': 2,\n",
       " 'min_samples_leaf': 1,\n",
       " 'max_features': 'sqrt',\n",
       " 'max_depth': 30,\n",
       " 'bootstrap': False}"
      ]
     },
     "execution_count": 135,
     "metadata": {},
     "output_type": "execute_result"
    }
   ],
   "source": [
    "rf_random.best_params_"
   ]
  },
  {
   "cell_type": "markdown",
   "metadata": {},
   "source": [
    "From the resulting best parameters for the RandomForestRegressor we conduct another Grid Search CV with close values around this best parameters to see if the regressor improves."
   ]
  },
  {
   "cell_type": "code",
   "execution_count": 141,
   "metadata": {},
   "outputs": [
    {
     "name": "stdout",
     "output_type": "stream",
     "text": [
      "Fitting 5 folds for each of 27 candidates, totalling 135 fits\n"
     ]
    },
    {
     "name": "stderr",
     "output_type": "stream",
     "text": [
      "[Parallel(n_jobs=-1)]: Using backend LokyBackend with 8 concurrent workers.\n",
      "[Parallel(n_jobs=-1)]: Done  25 tasks      | elapsed:   50.9s\n",
      "[Parallel(n_jobs=-1)]: Done 135 out of 135 | elapsed:  5.9min finished\n"
     ]
    },
    {
     "data": {
      "text/plain": [
       "GridSearchCV(cv=5, estimator=RandomForestRegressor(), n_jobs=-1,\n",
       "             param_grid={'bootstrap': [False], 'max_depth': [25, 30, 35],\n",
       "                         'max_features': ['sqrt'], 'min_samples_leaf': [1],\n",
       "                         'min_samples_split': [1, 2, 3],\n",
       "                         'n_estimators': [2000, 2500, 3000]},\n",
       "             scoring='neg_root_mean_squared_error', verbose=2)"
      ]
     },
     "execution_count": 141,
     "metadata": {},
     "output_type": "execute_result"
    }
   ],
   "source": [
    "rf_param_grid = {'n_estimators': [2000, 2500, 3000],\n",
    "               'max_features': ['sqrt'],\n",
    "               'max_depth': [25, 30, 35],\n",
    "               'min_samples_split': [1, 2, 3],\n",
    "               'min_samples_leaf': [1],\n",
    "               'bootstrap': [False]}\n",
    "# Use the random grid to search for best hyperparameters\n",
    "# First create the base model to tune\n",
    "rf_search = RandomForestRegressor()\n",
    "# Random search of parameters, using 3 fold cross validation, \n",
    "# search across 100 different combinations, and use all available cores\n",
    "rf_grid = GridSearchCV(rf_search, rf_param_grid, scoring = 'neg_root_mean_squared_error', cv = 5, verbose=2, n_jobs = -1)\n",
    "# Fit the random search model\n",
    "rf_grid.fit(X_train, y_train)"
   ]
  },
  {
   "cell_type": "code",
   "execution_count": 201,
   "metadata": {},
   "outputs": [
    {
     "name": "stdout",
     "output_type": "stream",
     "text": [
      "Train RMSE: 0.049980163959831625\n",
      "Test RMSE: 0.5706514566227899\n"
     ]
    }
   ],
   "source": [
    "imp_BRF = RandomForestRegressor(n_estimators =  3000, min_samples_split = 3, min_samples_leaf = 1, max_features = 'sqrt', \n",
    "                                max_depth =  23, bootstrap = False)\n",
    "imp_BRF.fit(X_train, y_train)\n",
    "imp_BRF_y_train_pred = imp_BRF.predict(X_train)\n",
    "rmse = math.sqrt(mean_squared_error(y_train, imp_BRF_y_train_pred))\n",
    "print(\"Train RMSE:\", rmse)\n",
    "\n",
    "imp_BRF_y_test_pred = imp_BRF.predict(X_test)\n",
    "rmse = math.sqrt(mean_squared_error(y_test, imp_BRF_y_test_pred))\n",
    "print(\"Test RMSE:\", rmse)\n",
    "\n",
    "imp_BRF_y_validate_pred = imp_BRF.predict(X_validate)"
   ]
  },
  {
   "cell_type": "markdown",
   "metadata": {},
   "source": [
    "#### Gradient Boosting Regressor"
   ]
  },
  {
   "cell_type": "code",
   "execution_count": 129,
   "metadata": {
    "scrolled": true
   },
   "outputs": [
    {
     "data": {
      "text/plain": [
       "GridSearchCV(cv=5, estimator=GradientBoostingRegressor(),\n",
       "             param_grid={'n_estimators': [450, 500, 550, 600, 650]},\n",
       "             scoring='neg_mean_squared_error')"
      ]
     },
     "execution_count": 129,
     "metadata": {},
     "output_type": "execute_result"
    }
   ],
   "source": [
    "from sklearn.ensemble import GradientBoostingRegressor\n",
    "gradient_boosting = GradientBoostingRegressor()\n",
    "\n",
    "param_grid = {'n_estimators': [450,500,550,600,650]}\n",
    "grid = GridSearchCV(estimator=gradient_boosting, param_grid=param_grid, scoring='neg_mean_squared_error', cv=5)\n",
    "grid.fit(X_train, y_train)"
   ]
  },
  {
   "cell_type": "code",
   "execution_count": 132,
   "metadata": {},
   "outputs": [
    {
     "data": {
      "text/plain": [
       "{'n_estimators': 500}"
      ]
     },
     "execution_count": 132,
     "metadata": {},
     "output_type": "execute_result"
    }
   ],
   "source": [
    "grid.best_params_"
   ]
  },
  {
   "cell_type": "code",
   "execution_count": 133,
   "metadata": {},
   "outputs": [
    {
     "data": {
      "text/plain": [
       "GradientBoostingRegressor(n_estimators=500)"
      ]
     },
     "execution_count": 133,
     "metadata": {},
     "output_type": "execute_result"
    }
   ],
   "source": [
    "GBR = GradientBoostingRegressor(n_estimators = 500)\n",
    "GBR.fit(X_train, y_train)"
   ]
  },
  {
   "cell_type": "code",
   "execution_count": 228,
   "metadata": {},
   "outputs": [
    {
     "name": "stdout",
     "output_type": "stream",
     "text": [
      "Train RMSE: 0.505033099951272\n",
      "Test RMSE: 0.6408078985067845\n"
     ]
    }
   ],
   "source": [
    "GBR_y_train_pred = GBR.predict(X_train)\n",
    "rmse = math.sqrt(mean_squared_error(y_train, GBR_y_train_pred))\n",
    "print(\"Train RMSE:\", rmse)\n",
    "\n",
    "GBR_y_test_pred = GBR.predict(X_test)\n",
    "rmse = math.sqrt(mean_squared_error(y_test, GBR_y_test_pred))\n",
    "print(\"Test RMSE:\", rmse)\n",
    "\n",
    "GBR_y_validate_pred = GBR.predict(X_validate)"
   ]
  },
  {
   "cell_type": "markdown",
   "metadata": {},
   "source": [
    "---"
   ]
  },
  {
   "cell_type": "markdown",
   "metadata": {},
   "source": [
    "## Data Visualization"
   ]
  },
  {
   "cell_type": "markdown",
   "metadata": {},
   "source": [
    "We proceed with a very simple predictions visualization tables to compare predictions among models."
   ]
  },
  {
   "cell_type": "code",
   "execution_count": 184,
   "metadata": {
    "collapsed": true
   },
   "outputs": [
    {
     "data": {
      "text/html": [
       "<div>\n",
       "<style scoped>\n",
       "    .dataframe tbody tr th:only-of-type {\n",
       "        vertical-align: middle;\n",
       "    }\n",
       "\n",
       "    .dataframe tbody tr th {\n",
       "        vertical-align: top;\n",
       "    }\n",
       "\n",
       "    .dataframe thead th {\n",
       "        text-align: right;\n",
       "    }\n",
       "</style>\n",
       "<table border=\"1\" class=\"dataframe\">\n",
       "  <thead>\n",
       "    <tr style=\"text-align: right;\">\n",
       "      <th></th>\n",
       "      <th>Linear Regression</th>\n",
       "      <th>KNRegressor</th>\n",
       "      <th>KNClassifier</th>\n",
       "      <th>RandomForest</th>\n",
       "      <th>BestRandomForest</th>\n",
       "      <th>ImprovedRF</th>\n",
       "      <th>True Value</th>\n",
       "    </tr>\n",
       "  </thead>\n",
       "  <tbody>\n",
       "    <tr>\n",
       "      <th>697</th>\n",
       "      <td>7.710645</td>\n",
       "      <td>8.0</td>\n",
       "      <td>8.0</td>\n",
       "      <td>7.994667</td>\n",
       "      <td>8.000244</td>\n",
       "      <td>7.994834</td>\n",
       "      <td>8</td>\n",
       "    </tr>\n",
       "    <tr>\n",
       "      <th>3145</th>\n",
       "      <td>7.644534</td>\n",
       "      <td>8.0</td>\n",
       "      <td>8.0</td>\n",
       "      <td>7.976000</td>\n",
       "      <td>8.000000</td>\n",
       "      <td>7.978356</td>\n",
       "      <td>8</td>\n",
       "    </tr>\n",
       "    <tr>\n",
       "      <th>2312</th>\n",
       "      <td>5.416056</td>\n",
       "      <td>6.0</td>\n",
       "      <td>6.0</td>\n",
       "      <td>5.829333</td>\n",
       "      <td>6.000000</td>\n",
       "      <td>5.955709</td>\n",
       "      <td>6</td>\n",
       "    </tr>\n",
       "    <tr>\n",
       "      <th>2176</th>\n",
       "      <td>7.438290</td>\n",
       "      <td>7.0</td>\n",
       "      <td>7.0</td>\n",
       "      <td>7.180000</td>\n",
       "      <td>7.000000</td>\n",
       "      <td>7.007671</td>\n",
       "      <td>7</td>\n",
       "    </tr>\n",
       "    <tr>\n",
       "      <th>1234</th>\n",
       "      <td>7.520946</td>\n",
       "      <td>7.0</td>\n",
       "      <td>7.0</td>\n",
       "      <td>6.917333</td>\n",
       "      <td>7.000000</td>\n",
       "      <td>7.000000</td>\n",
       "      <td>7</td>\n",
       "    </tr>\n",
       "    <tr>\n",
       "      <th>...</th>\n",
       "      <td>...</td>\n",
       "      <td>...</td>\n",
       "      <td>...</td>\n",
       "      <td>...</td>\n",
       "      <td>...</td>\n",
       "      <td>...</td>\n",
       "      <td>...</td>\n",
       "    </tr>\n",
       "    <tr>\n",
       "      <th>2543</th>\n",
       "      <td>6.064566</td>\n",
       "      <td>6.0</td>\n",
       "      <td>6.0</td>\n",
       "      <td>6.014667</td>\n",
       "      <td>6.000000</td>\n",
       "      <td>6.006726</td>\n",
       "      <td>6</td>\n",
       "    </tr>\n",
       "    <tr>\n",
       "      <th>1664</th>\n",
       "      <td>5.754716</td>\n",
       "      <td>6.0</td>\n",
       "      <td>6.0</td>\n",
       "      <td>5.834667</td>\n",
       "      <td>6.000000</td>\n",
       "      <td>5.982167</td>\n",
       "      <td>6</td>\n",
       "    </tr>\n",
       "    <tr>\n",
       "      <th>3157</th>\n",
       "      <td>6.263599</td>\n",
       "      <td>8.0</td>\n",
       "      <td>8.0</td>\n",
       "      <td>7.573333</td>\n",
       "      <td>8.000000</td>\n",
       "      <td>7.823667</td>\n",
       "      <td>8</td>\n",
       "    </tr>\n",
       "    <tr>\n",
       "      <th>4241</th>\n",
       "      <td>7.479405</td>\n",
       "      <td>7.0</td>\n",
       "      <td>7.0</td>\n",
       "      <td>7.069333</td>\n",
       "      <td>7.000000</td>\n",
       "      <td>7.001134</td>\n",
       "      <td>7</td>\n",
       "    </tr>\n",
       "    <tr>\n",
       "      <th>4843</th>\n",
       "      <td>6.850916</td>\n",
       "      <td>7.0</td>\n",
       "      <td>7.0</td>\n",
       "      <td>7.074667</td>\n",
       "      <td>7.000000</td>\n",
       "      <td>7.022689</td>\n",
       "      <td>7</td>\n",
       "    </tr>\n",
       "  </tbody>\n",
       "</table>\n",
       "<p>3922 rows × 7 columns</p>\n",
       "</div>"
      ],
      "text/plain": [
       "      Linear Regression  KNRegressor  KNClassifier  RandomForest  \\\n",
       "697            7.710645          8.0           8.0      7.994667   \n",
       "3145           7.644534          8.0           8.0      7.976000   \n",
       "2312           5.416056          6.0           6.0      5.829333   \n",
       "2176           7.438290          7.0           7.0      7.180000   \n",
       "1234           7.520946          7.0           7.0      6.917333   \n",
       "...                 ...          ...           ...           ...   \n",
       "2543           6.064566          6.0           6.0      6.014667   \n",
       "1664           5.754716          6.0           6.0      5.834667   \n",
       "3157           6.263599          8.0           8.0      7.573333   \n",
       "4241           7.479405          7.0           7.0      7.069333   \n",
       "4843           6.850916          7.0           7.0      7.074667   \n",
       "\n",
       "      BestRandomForest  ImprovedRF   True Value  \n",
       "697           8.000244     7.994834           8  \n",
       "3145          8.000000     7.978356           8  \n",
       "2312          6.000000     5.955709           6  \n",
       "2176          7.000000     7.007671           7  \n",
       "1234          7.000000     7.000000           7  \n",
       "...                ...          ...         ...  \n",
       "2543          6.000000     6.006726           6  \n",
       "1664          6.000000     5.982167           6  \n",
       "3157          8.000000     7.823667           8  \n",
       "4241          7.000000     7.001134           7  \n",
       "4843          7.000000     7.022689           7  \n",
       "\n",
       "[3922 rows x 7 columns]"
      ]
     },
     "execution_count": 184,
     "metadata": {},
     "output_type": "execute_result"
    }
   ],
   "source": [
    "TrainPredictions = pd.DataFrame({'Linear Regression': reg_y_train_pred,\n",
    "                                     'KNRegressor': BN1_y_train_pred,\n",
    "                                     'KNClassifier': BN2_y_train_pred,\n",
    "                                     'RandomForest': RF_y_train_pred,\n",
    "                                     'BestRandomForest': BRF_y_train_pred,\n",
    "                                     'ImprovedRF ': imp_BRF_y_train_pred,\n",
    "                                     'True Value': y_train\n",
    "                                     })\n",
    "TrainPredictions"
   ]
  },
  {
   "cell_type": "code",
   "execution_count": 187,
   "metadata": {
    "collapsed": true
   },
   "outputs": [
    {
     "data": {
      "text/html": [
       "<div>\n",
       "<style scoped>\n",
       "    .dataframe tbody tr th:only-of-type {\n",
       "        vertical-align: middle;\n",
       "    }\n",
       "\n",
       "    .dataframe tbody tr th {\n",
       "        vertical-align: top;\n",
       "    }\n",
       "\n",
       "    .dataframe thead th {\n",
       "        text-align: right;\n",
       "    }\n",
       "</style>\n",
       "<table border=\"1\" class=\"dataframe\">\n",
       "  <thead>\n",
       "    <tr style=\"text-align: right;\">\n",
       "      <th></th>\n",
       "      <th>Linear Regression</th>\n",
       "      <th>KNRegressor</th>\n",
       "      <th>KNClassifier</th>\n",
       "      <th>RandomForest</th>\n",
       "      <th>BestRandomForest</th>\n",
       "      <th>ImprovedRF</th>\n",
       "      <th>True Value</th>\n",
       "    </tr>\n",
       "  </thead>\n",
       "  <tbody>\n",
       "    <tr>\n",
       "      <th>1357</th>\n",
       "      <td>7.767785</td>\n",
       "      <td>7.591720</td>\n",
       "      <td>7.545593</td>\n",
       "      <td>7.720000</td>\n",
       "      <td>7.787000</td>\n",
       "      <td>7.820666</td>\n",
       "      <td>7</td>\n",
       "    </tr>\n",
       "    <tr>\n",
       "      <th>3179</th>\n",
       "      <td>8.181797</td>\n",
       "      <td>7.745212</td>\n",
       "      <td>7.802074</td>\n",
       "      <td>7.874667</td>\n",
       "      <td>7.875750</td>\n",
       "      <td>7.856521</td>\n",
       "      <td>8</td>\n",
       "    </tr>\n",
       "    <tr>\n",
       "      <th>4587</th>\n",
       "      <td>8.109151</td>\n",
       "      <td>7.905363</td>\n",
       "      <td>7.940665</td>\n",
       "      <td>8.493333</td>\n",
       "      <td>8.466600</td>\n",
       "      <td>8.471304</td>\n",
       "      <td>8</td>\n",
       "    </tr>\n",
       "    <tr>\n",
       "      <th>2811</th>\n",
       "      <td>7.487973</td>\n",
       "      <td>7.978165</td>\n",
       "      <td>7.996341</td>\n",
       "      <td>7.914667</td>\n",
       "      <td>7.992530</td>\n",
       "      <td>7.984964</td>\n",
       "      <td>8</td>\n",
       "    </tr>\n",
       "    <tr>\n",
       "      <th>3252</th>\n",
       "      <td>7.674920</td>\n",
       "      <td>8.000000</td>\n",
       "      <td>8.000000</td>\n",
       "      <td>7.998667</td>\n",
       "      <td>8.000157</td>\n",
       "      <td>7.988726</td>\n",
       "      <td>8</td>\n",
       "    </tr>\n",
       "    <tr>\n",
       "      <th>2862</th>\n",
       "      <td>7.006385</td>\n",
       "      <td>7.355823</td>\n",
       "      <td>7.345152</td>\n",
       "      <td>6.969333</td>\n",
       "      <td>7.008000</td>\n",
       "      <td>7.045092</td>\n",
       "      <td>8</td>\n",
       "    </tr>\n",
       "    <tr>\n",
       "      <th>3951</th>\n",
       "      <td>5.049325</td>\n",
       "      <td>6.109079</td>\n",
       "      <td>6.305956</td>\n",
       "      <td>5.184000</td>\n",
       "      <td>5.292000</td>\n",
       "      <td>5.272367</td>\n",
       "      <td>5</td>\n",
       "    </tr>\n",
       "    <tr>\n",
       "      <th>3969</th>\n",
       "      <td>5.774412</td>\n",
       "      <td>5.421382</td>\n",
       "      <td>5.481415</td>\n",
       "      <td>5.040000</td>\n",
       "      <td>5.505000</td>\n",
       "      <td>5.487500</td>\n",
       "      <td>6</td>\n",
       "    </tr>\n",
       "    <tr>\n",
       "      <th>3655</th>\n",
       "      <td>8.483662</td>\n",
       "      <td>8.522930</td>\n",
       "      <td>8.514601</td>\n",
       "      <td>8.756000</td>\n",
       "      <td>8.800510</td>\n",
       "      <td>8.798593</td>\n",
       "      <td>9</td>\n",
       "    </tr>\n",
       "    <tr>\n",
       "      <th>9</th>\n",
       "      <td>7.555400</td>\n",
       "      <td>7.000000</td>\n",
       "      <td>7.000000</td>\n",
       "      <td>7.010667</td>\n",
       "      <td>7.000000</td>\n",
       "      <td>7.000459</td>\n",
       "      <td>7</td>\n",
       "    </tr>\n",
       "  </tbody>\n",
       "</table>\n",
       "</div>"
      ],
      "text/plain": [
       "      Linear Regression  KNRegressor  KNClassifier  RandomForest  \\\n",
       "1357           7.767785     7.591720      7.545593      7.720000   \n",
       "3179           8.181797     7.745212      7.802074      7.874667   \n",
       "4587           8.109151     7.905363      7.940665      8.493333   \n",
       "2811           7.487973     7.978165      7.996341      7.914667   \n",
       "3252           7.674920     8.000000      8.000000      7.998667   \n",
       "2862           7.006385     7.355823      7.345152      6.969333   \n",
       "3951           5.049325     6.109079      6.305956      5.184000   \n",
       "3969           5.774412     5.421382      5.481415      5.040000   \n",
       "3655           8.483662     8.522930      8.514601      8.756000   \n",
       "9              7.555400     7.000000      7.000000      7.010667   \n",
       "\n",
       "      BestRandomForest  ImprovedRF   True Value  \n",
       "1357          7.787000     7.820666           7  \n",
       "3179          7.875750     7.856521           8  \n",
       "4587          8.466600     8.471304           8  \n",
       "2811          7.992530     7.984964           8  \n",
       "3252          8.000157     7.988726           8  \n",
       "2862          7.008000     7.045092           8  \n",
       "3951          5.292000     5.272367           5  \n",
       "3969          5.505000     5.487500           6  \n",
       "3655          8.800510     8.798593           9  \n",
       "9             7.000000     7.000459           7  "
      ]
     },
     "execution_count": 187,
     "metadata": {},
     "output_type": "execute_result"
    }
   ],
   "source": [
    "TestPredictions = pd.DataFrame({'Linear Regression': reg_y_test_pred,\n",
    "                                     'KNRegressor': BN1_y_test_pred,\n",
    "                                     'KNClassifier': BN2_y_test_pred,\n",
    "                                     'RandomForest': RF_y_test_pred,\n",
    "                                     'BestRandomForest': BRF_y_test_pred,\n",
    "                                     'ImprovedRF ': imp_BRF_y_test_pred,\n",
    "                                     'True Value': y_test\n",
    "                                     })\n",
    "TestPredictions.sample(10)"
   ]
  },
  {
   "cell_type": "code",
   "execution_count": 207,
   "metadata": {},
   "outputs": [
    {
     "data": {
      "text/html": [
       "<div>\n",
       "<style scoped>\n",
       "    .dataframe tbody tr th:only-of-type {\n",
       "        vertical-align: middle;\n",
       "    }\n",
       "\n",
       "    .dataframe tbody tr th {\n",
       "        vertical-align: top;\n",
       "    }\n",
       "\n",
       "    .dataframe thead th {\n",
       "        text-align: right;\n",
       "    }\n",
       "</style>\n",
       "<table border=\"1\" class=\"dataframe\">\n",
       "  <thead>\n",
       "    <tr style=\"text-align: right;\">\n",
       "      <th></th>\n",
       "      <th>Linear Regression</th>\n",
       "      <th>KNRegressor</th>\n",
       "      <th>KNClassifier</th>\n",
       "      <th>RandomForest</th>\n",
       "      <th>BestRandomForest</th>\n",
       "      <th>ImprovedRF</th>\n",
       "    </tr>\n",
       "  </thead>\n",
       "  <tbody>\n",
       "    <tr>\n",
       "      <th>24</th>\n",
       "      <td>7.342004</td>\n",
       "      <td>7.000000</td>\n",
       "      <td>7.000000</td>\n",
       "      <td>7.052000</td>\n",
       "      <td>7.000000</td>\n",
       "      <td>7.014952</td>\n",
       "    </tr>\n",
       "    <tr>\n",
       "      <th>728</th>\n",
       "      <td>5.732013</td>\n",
       "      <td>5.890257</td>\n",
       "      <td>5.841318</td>\n",
       "      <td>5.634667</td>\n",
       "      <td>5.804000</td>\n",
       "      <td>5.775500</td>\n",
       "    </tr>\n",
       "    <tr>\n",
       "      <th>435</th>\n",
       "      <td>7.582339</td>\n",
       "      <td>7.000000</td>\n",
       "      <td>7.000000</td>\n",
       "      <td>7.338667</td>\n",
       "      <td>7.000279</td>\n",
       "      <td>7.044113</td>\n",
       "    </tr>\n",
       "    <tr>\n",
       "      <th>415</th>\n",
       "      <td>7.646879</td>\n",
       "      <td>8.000000</td>\n",
       "      <td>8.000000</td>\n",
       "      <td>8.014667</td>\n",
       "      <td>8.000000</td>\n",
       "      <td>7.993365</td>\n",
       "    </tr>\n",
       "    <tr>\n",
       "      <th>461</th>\n",
       "      <td>8.543178</td>\n",
       "      <td>8.317917</td>\n",
       "      <td>8.323481</td>\n",
       "      <td>8.217333</td>\n",
       "      <td>8.209662</td>\n",
       "      <td>8.233051</td>\n",
       "    </tr>\n",
       "    <tr>\n",
       "      <th>89</th>\n",
       "      <td>8.354064</td>\n",
       "      <td>10.000000</td>\n",
       "      <td>10.000000</td>\n",
       "      <td>9.497333</td>\n",
       "      <td>10.000000</td>\n",
       "      <td>9.861530</td>\n",
       "    </tr>\n",
       "    <tr>\n",
       "      <th>409</th>\n",
       "      <td>8.107611</td>\n",
       "      <td>8.182867</td>\n",
       "      <td>8.164478</td>\n",
       "      <td>7.985333</td>\n",
       "      <td>7.888056</td>\n",
       "      <td>7.879051</td>\n",
       "    </tr>\n",
       "    <tr>\n",
       "      <th>719</th>\n",
       "      <td>5.428873</td>\n",
       "      <td>5.899480</td>\n",
       "      <td>5.904253</td>\n",
       "      <td>5.341333</td>\n",
       "      <td>5.518000</td>\n",
       "      <td>5.509900</td>\n",
       "    </tr>\n",
       "    <tr>\n",
       "      <th>643</th>\n",
       "      <td>8.073729</td>\n",
       "      <td>8.152170</td>\n",
       "      <td>8.179732</td>\n",
       "      <td>8.177333</td>\n",
       "      <td>8.069486</td>\n",
       "      <td>8.066611</td>\n",
       "    </tr>\n",
       "    <tr>\n",
       "      <th>770</th>\n",
       "      <td>6.225914</td>\n",
       "      <td>5.938226</td>\n",
       "      <td>5.909577</td>\n",
       "      <td>6.900000</td>\n",
       "      <td>6.358000</td>\n",
       "      <td>6.357833</td>\n",
       "    </tr>\n",
       "  </tbody>\n",
       "</table>\n",
       "</div>"
      ],
      "text/plain": [
       "     Linear Regression  KNRegressor  KNClassifier  RandomForest  \\\n",
       "24            7.342004     7.000000      7.000000      7.052000   \n",
       "728           5.732013     5.890257      5.841318      5.634667   \n",
       "435           7.582339     7.000000      7.000000      7.338667   \n",
       "415           7.646879     8.000000      8.000000      8.014667   \n",
       "461           8.543178     8.317917      8.323481      8.217333   \n",
       "89            8.354064    10.000000     10.000000      9.497333   \n",
       "409           8.107611     8.182867      8.164478      7.985333   \n",
       "719           5.428873     5.899480      5.904253      5.341333   \n",
       "643           8.073729     8.152170      8.179732      8.177333   \n",
       "770           6.225914     5.938226      5.909577      6.900000   \n",
       "\n",
       "     BestRandomForest  ImprovedRF   \n",
       "24           7.000000     7.014952  \n",
       "728          5.804000     5.775500  \n",
       "435          7.000279     7.044113  \n",
       "415          8.000000     7.993365  \n",
       "461          8.209662     8.233051  \n",
       "89          10.000000     9.861530  \n",
       "409          7.888056     7.879051  \n",
       "719          5.518000     5.509900  \n",
       "643          8.069486     8.066611  \n",
       "770          6.358000     6.357833  "
      ]
     },
     "execution_count": 207,
     "metadata": {},
     "output_type": "execute_result"
    }
   ],
   "source": [
    "# Validation Data\n",
    "\n",
    "ValidationPredictions = pd.DataFrame({'Linear Regression': reg_y_validate_pred,\n",
    "                                     'KNRegressor': BN1_y_validate_pred,\n",
    "                                     'KNClassifier': BN2_y_validate_pred,\n",
    "                                     'RandomForest': RF_y_validate_pred,\n",
    "                                     'BestRandomForest': BRF_y_validate_pred,\n",
    "                                     'ImprovedRF ': imp_BRF_y_validate_pred\n",
    "                                     })\n",
    "ValidationPredictions.sample(10)"
   ]
  },
  {
   "cell_type": "code",
   "execution_count": 164,
   "metadata": {},
   "outputs": [],
   "source": [
    "# Optional function to round predictions with very low distance to the integer.\n",
    "def rounding(arr):\n",
    "    rounded = []\n",
    "    for val in arr:\n",
    "        if abs(val - round(val)) < 0.15:\n",
    "            rounded.append(round(val))\n",
    "        else:\n",
    "            rounded.append(val)\n",
    "    return rounded"
   ]
  },
  {
   "cell_type": "code",
   "execution_count": 209,
   "metadata": {},
   "outputs": [],
   "source": [
    "ValidationPredictions.to_csv('data/predictions.csv')"
   ]
  }
 ],
 "metadata": {
  "kernelspec": {
   "display_name": "Python 3",
   "language": "python",
   "name": "python3"
  },
  "language_info": {
   "codemirror_mode": {
    "name": "ipython",
    "version": 3
   },
   "file_extension": ".py",
   "mimetype": "text/x-python",
   "name": "python",
   "nbconvert_exporter": "python",
   "pygments_lexer": "ipython3",
   "version": "3.8.3"
  }
 },
 "nbformat": 4,
 "nbformat_minor": 4
}
